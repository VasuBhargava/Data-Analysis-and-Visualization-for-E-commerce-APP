{
 "cells": [
  {
   "cell_type": "markdown",
   "id": "905bcf0f",
   "metadata": {
    "papermill": {
     "duration": 0.025853,
     "end_time": "2022-10-13T08:39:53.661063",
     "exception": false,
     "start_time": "2022-10-13T08:39:53.635210",
     "status": "completed"
    },
    "tags": []
   },
   "source": [
    "# Data Analyze and Visualization for E-commerce APP\n",
    "\n",
    "\n",
    "\n",
    "\n",
    "This e-commerce company allows Retailers to order supplies online and wants to target customers with suggestions on items that a customer is most likely to purchase. I was provided with a dataset containing information on an e-commerce app, and the transaction data gives information about all the transactions that have taken place over time. We will be able to increase customer engagement, improve the consumer experience, optimise the app performance and discover customer behaviour by analysing and visualizing this data set. The data given was from July 2021 to July 2022 from that we can analyse business decisions, understand customers' and providers'(hosts) behaviour and performance of the app, guide marketing initiatives, implementation of innovative additional services, and much more.\n",
    "\n",
    "\n",
    "### About Dataset\n",
    "\n",
    "This dataset has around 3396790 rows × 19 columns and it is a mix of categorical and numeric values. You will find 3 tables attached. The login_logs table contains information about users logging in. The sales orders table contains information about orders made and the sales_orders_items contains the specifics of each order. The data given was from July 2021 and July 2022 from that we can analyze business decisions\n",
    "\n",
    "\n",
    "\n",
    "### key performance indicators (***KPIs***)\n",
    "\n",
    "In this data set will also use KPIs to measure the progress and insights that help people across the organization make better decisions. that demonstrates how effectively a company is achieving key progress and for the success of the business to reach its targets.\n",
    "\n",
    "KPIs serve as a guidepost to help you to measure your business progress toward achieving your strategic goals. They give you a realistic look at the long-term health of your business, from risk factors to financial visibility. By tracking your KPIs, you can know where your e-commerce business is lacking so that you can streamline your processes for better efficiency and ensure that your business grows for years to come.\n",
    "\n",
    "\n",
    "\n",
    "\n",
    "### Key learnings:\n",
    "\n",
    "* Basics of python\n",
    "* Basics of numpy, pandas library\n",
    "* Basics of visualisation libraries (matplot and seaborn)\n",
    "* Basics of data handling and cleaning\n",
    "\n"
   ]
  },
  {
   "cell_type": "markdown",
   "id": "fd994682",
   "metadata": {
    "papermill": {
     "duration": 0.021042,
     "end_time": "2022-10-13T08:39:53.703742",
     "exception": false,
     "start_time": "2022-10-13T08:39:53.682700",
     "status": "completed"
    },
    "tags": []
   },
   "source": [
    "### Data Preparation\n",
    "\n",
    "I am importing Pandas, NumPy, Matpoltlib, and Seaborn for analysing and visualising this data set."
   ]
  },
  {
   "cell_type": "code",
   "execution_count": 1,
   "id": "37b20b5e",
   "metadata": {
    "execution": {
     "iopub.execute_input": "2022-10-13T08:39:53.748940Z",
     "iopub.status.busy": "2022-10-13T08:39:53.748513Z",
     "iopub.status.idle": "2022-10-13T08:39:54.863010Z",
     "shell.execute_reply": "2022-10-13T08:39:54.862080Z"
    },
    "papermill": {
     "duration": 1.140182,
     "end_time": "2022-10-13T08:39:54.865704",
     "exception": false,
     "start_time": "2022-10-13T08:39:53.725522",
     "status": "completed"
    },
    "tags": []
   },
   "outputs": [],
   "source": [
    "import pandas  as pd\n",
    "import numpy as np\n",
    "pd.set_option('display.float_format', lambda x: '%.3f' % x)\n",
    "pd.set_option('display.max_rows', 500)\n",
    "import seaborn as sns\n",
    "import matplotlib\n",
    "import matplotlib.pyplot as plt\n",
    "%matplotlib inline\n",
    "sns.set_style('darkgrid')\n",
    "matplotlib.rcParams['font.size'] = 14\n",
    "matplotlib.rcParams['figure.figsize'] = (9, 5)\n",
    "matplotlib.rcParams['figure.facecolor'] = '#00000000'"
   ]
  },
  {
   "cell_type": "markdown",
   "id": "10ed0d43",
   "metadata": {
    "papermill": {
     "duration": 0.020764,
     "end_time": "2022-10-13T08:39:54.908348",
     "exception": false,
     "start_time": "2022-10-13T08:39:54.887584",
     "status": "completed"
    },
    "tags": []
   },
   "source": [
    "### Loading the dataset into a data frame using Pandas."
   ]
  },
  {
   "cell_type": "code",
   "execution_count": 2,
   "id": "9b611dab",
   "metadata": {
    "execution": {
     "iopub.execute_input": "2022-10-13T08:39:54.952802Z",
     "iopub.status.busy": "2022-10-13T08:39:54.952003Z",
     "iopub.status.idle": "2022-10-13T08:39:55.953863Z",
     "shell.execute_reply": "2022-10-13T08:39:55.952608Z"
    },
    "papermill": {
     "duration": 1.027379,
     "end_time": "2022-10-13T08:39:55.956856",
     "exception": false,
     "start_time": "2022-10-13T08:39:54.929477",
     "status": "completed"
    },
    "tags": []
   },
   "outputs": [],
   "source": [
    "soi = pd.read_csv('../input/ecommerce-app-data/sales_orders_items.csv')\n",
    "so  = pd.read_csv('../input/ecommerce-app-data/sales_orders.csv')\n",
    "ll  = pd.read_csv('../input/ecommerce-app-data/login_logs.csv')"
   ]
  },
  {
   "cell_type": "markdown",
   "id": "ee5aeeb2",
   "metadata": {
    "papermill": {
     "duration": 0.021783,
     "end_time": "2022-10-13T08:39:56.000009",
     "exception": false,
     "start_time": "2022-10-13T08:39:55.978226",
     "status": "completed"
    },
    "tags": []
   },
   "source": [
    "### Merging data sets.\n",
    "\n",
    " \n",
    "We merge 3 data sets into one Pandas data frame. We also combine these datasets to run certain operations on both datasets together."
   ]
  },
  {
   "cell_type": "code",
   "execution_count": 3,
   "id": "fdf0c956",
   "metadata": {
    "execution": {
     "iopub.execute_input": "2022-10-13T08:39:56.044240Z",
     "iopub.status.busy": "2022-10-13T08:39:56.043836Z",
     "iopub.status.idle": "2022-10-13T08:39:56.880500Z",
     "shell.execute_reply": "2022-10-13T08:39:56.879467Z"
    },
    "papermill": {
     "duration": 0.862201,
     "end_time": "2022-10-13T08:39:56.883461",
     "exception": false,
     "start_time": "2022-10-13T08:39:56.021260",
     "status": "completed"
    },
    "tags": []
   },
   "outputs": [],
   "source": [
    "a = pd.merge(so , soi , how = 'left' , left_on = 'order_id', right_on = 'fk_order_id')\n",
    "b = pd.merge(a,ll,how = 'left',left_on = 'fk_buyer_id', right_on = 'user_id')"
   ]
  },
  {
   "cell_type": "markdown",
   "id": "19ab4f1f",
   "metadata": {
    "papermill": {
     "duration": 0.025976,
     "end_time": "2022-10-13T08:39:56.930868",
     "exception": false,
     "start_time": "2022-10-13T08:39:56.904892",
     "status": "completed"
    },
    "tags": []
   },
   "source": [
    "### Formatting Columns\n",
    "\n",
    "we created new columns creation year, login year, order year, creation day, and login day from creation time and login time for better data analysis."
   ]
  },
  {
   "cell_type": "code",
   "execution_count": 4,
   "id": "b139d1c0",
   "metadata": {
    "execution": {
     "iopub.execute_input": "2022-10-13T08:39:56.991478Z",
     "iopub.status.busy": "2022-10-13T08:39:56.990652Z",
     "iopub.status.idle": "2022-10-13T08:39:56.995892Z",
     "shell.execute_reply": "2022-10-13T08:39:56.994938Z"
    },
    "papermill": {
     "duration": 0.039692,
     "end_time": "2022-10-13T08:39:56.998518",
     "exception": false,
     "start_time": "2022-10-13T08:39:56.958826",
     "status": "completed"
    },
    "tags": []
   },
   "outputs": [],
   "source": [
    "def x(s):\n",
    "    ans = s.split('-')[0]\n",
    "    return ans "
   ]
  },
  {
   "cell_type": "code",
   "execution_count": 5,
   "id": "7c7c111c",
   "metadata": {
    "execution": {
     "iopub.execute_input": "2022-10-13T08:39:57.059416Z",
     "iopub.status.busy": "2022-10-13T08:39:57.059014Z",
     "iopub.status.idle": "2022-10-13T08:39:59.528521Z",
     "shell.execute_reply": "2022-10-13T08:39:59.527693Z"
    },
    "papermill": {
     "duration": 2.501341,
     "end_time": "2022-10-13T08:39:59.531285",
     "exception": false,
     "start_time": "2022-10-13T08:39:57.029944",
     "status": "completed"
    },
    "tags": []
   },
   "outputs": [
    {
     "data": {
      "text/html": [
       "<div>\n",
       "<style scoped>\n",
       "    .dataframe tbody tr th:only-of-type {\n",
       "        vertical-align: middle;\n",
       "    }\n",
       "\n",
       "    .dataframe tbody tr th {\n",
       "        vertical-align: top;\n",
       "    }\n",
       "\n",
       "    .dataframe thead th {\n",
       "        text-align: right;\n",
       "    }\n",
       "</style>\n",
       "<table border=\"1\" class=\"dataframe\">\n",
       "  <thead>\n",
       "    <tr style=\"text-align: right;\">\n",
       "      <th></th>\n",
       "      <th>creation_year</th>\n",
       "    </tr>\n",
       "  </thead>\n",
       "  <tbody>\n",
       "    <tr>\n",
       "      <th>0</th>\n",
       "      <td>2021</td>\n",
       "    </tr>\n",
       "    <tr>\n",
       "      <th>1</th>\n",
       "      <td>2021</td>\n",
       "    </tr>\n",
       "    <tr>\n",
       "      <th>2</th>\n",
       "      <td>2021</td>\n",
       "    </tr>\n",
       "    <tr>\n",
       "      <th>3</th>\n",
       "      <td>2021</td>\n",
       "    </tr>\n",
       "    <tr>\n",
       "      <th>4</th>\n",
       "      <td>2021</td>\n",
       "    </tr>\n",
       "  </tbody>\n",
       "</table>\n",
       "</div>"
      ],
      "text/plain": [
       "  creation_year\n",
       "0          2021\n",
       "1          2021\n",
       "2          2021\n",
       "3          2021\n",
       "4          2021"
      ]
     },
     "execution_count": 5,
     "metadata": {},
     "output_type": "execute_result"
    }
   ],
   "source": [
    "b['creation_year'] = b['creation_time'].apply(x)\n",
    "b[['creation_year']].head()"
   ]
  },
  {
   "cell_type": "code",
   "execution_count": 6,
   "id": "8a2933e6",
   "metadata": {
    "execution": {
     "iopub.execute_input": "2022-10-13T08:39:59.576320Z",
     "iopub.status.busy": "2022-10-13T08:39:59.575616Z",
     "iopub.status.idle": "2022-10-13T08:40:01.961834Z",
     "shell.execute_reply": "2022-10-13T08:40:01.960497Z"
    },
    "papermill": {
     "duration": 2.411704,
     "end_time": "2022-10-13T08:40:01.964516",
     "exception": false,
     "start_time": "2022-10-13T08:39:59.552812",
     "status": "completed"
    },
    "tags": []
   },
   "outputs": [
    {
     "data": {
      "text/html": [
       "<div>\n",
       "<style scoped>\n",
       "    .dataframe tbody tr th:only-of-type {\n",
       "        vertical-align: middle;\n",
       "    }\n",
       "\n",
       "    .dataframe tbody tr th {\n",
       "        vertical-align: top;\n",
       "    }\n",
       "\n",
       "    .dataframe thead th {\n",
       "        text-align: right;\n",
       "    }\n",
       "</style>\n",
       "<table border=\"1\" class=\"dataframe\">\n",
       "  <thead>\n",
       "    <tr style=\"text-align: right;\">\n",
       "      <th></th>\n",
       "      <th>order_year</th>\n",
       "    </tr>\n",
       "  </thead>\n",
       "  <tbody>\n",
       "    <tr>\n",
       "      <th>0</th>\n",
       "      <td>2021</td>\n",
       "    </tr>\n",
       "    <tr>\n",
       "      <th>1</th>\n",
       "      <td>2021</td>\n",
       "    </tr>\n",
       "    <tr>\n",
       "      <th>2</th>\n",
       "      <td>2021</td>\n",
       "    </tr>\n",
       "    <tr>\n",
       "      <th>3</th>\n",
       "      <td>2021</td>\n",
       "    </tr>\n",
       "    <tr>\n",
       "      <th>4</th>\n",
       "      <td>2021</td>\n",
       "    </tr>\n",
       "  </tbody>\n",
       "</table>\n",
       "</div>"
      ],
      "text/plain": [
       "  order_year\n",
       "0       2021\n",
       "1       2021\n",
       "2       2021\n",
       "3       2021\n",
       "4       2021"
      ]
     },
     "execution_count": 6,
     "metadata": {},
     "output_type": "execute_result"
    }
   ],
   "source": [
    "b['order_year'] = b['creation_time'].apply(x)\n",
    "b[['order_year']].head()"
   ]
  },
  {
   "cell_type": "code",
   "execution_count": 7,
   "id": "135f7b11",
   "metadata": {
    "execution": {
     "iopub.execute_input": "2022-10-13T08:40:02.010180Z",
     "iopub.status.busy": "2022-10-13T08:40:02.008933Z",
     "iopub.status.idle": "2022-10-13T08:40:04.873209Z",
     "shell.execute_reply": "2022-10-13T08:40:04.871772Z"
    },
    "papermill": {
     "duration": 2.890008,
     "end_time": "2022-10-13T08:40:04.876076",
     "exception": false,
     "start_time": "2022-10-13T08:40:01.986068",
     "status": "completed"
    },
    "tags": []
   },
   "outputs": [
    {
     "data": {
      "text/html": [
       "<div>\n",
       "<style scoped>\n",
       "    .dataframe tbody tr th:only-of-type {\n",
       "        vertical-align: middle;\n",
       "    }\n",
       "\n",
       "    .dataframe tbody tr th {\n",
       "        vertical-align: top;\n",
       "    }\n",
       "\n",
       "    .dataframe thead th {\n",
       "        text-align: right;\n",
       "    }\n",
       "</style>\n",
       "<table border=\"1\" class=\"dataframe\">\n",
       "  <thead>\n",
       "    <tr style=\"text-align: right;\">\n",
       "      <th></th>\n",
       "      <th>login_year</th>\n",
       "    </tr>\n",
       "  </thead>\n",
       "  <tbody>\n",
       "    <tr>\n",
       "      <th>0</th>\n",
       "      <td>2021</td>\n",
       "    </tr>\n",
       "    <tr>\n",
       "      <th>1</th>\n",
       "      <td>2021</td>\n",
       "    </tr>\n",
       "    <tr>\n",
       "      <th>2</th>\n",
       "      <td>2021</td>\n",
       "    </tr>\n",
       "    <tr>\n",
       "      <th>3</th>\n",
       "      <td>2021</td>\n",
       "    </tr>\n",
       "    <tr>\n",
       "      <th>4</th>\n",
       "      <td>2021</td>\n",
       "    </tr>\n",
       "  </tbody>\n",
       "</table>\n",
       "</div>"
      ],
      "text/plain": [
       "  login_year\n",
       "0       2021\n",
       "1       2021\n",
       "2       2021\n",
       "3       2021\n",
       "4       2021"
      ]
     },
     "execution_count": 7,
     "metadata": {},
     "output_type": "execute_result"
    }
   ],
   "source": [
    "b['login_year'] = b['login_time'].apply(x)\n",
    "b[['login_year']].head()"
   ]
  },
  {
   "cell_type": "code",
   "execution_count": 8,
   "id": "f2911ee8",
   "metadata": {
    "execution": {
     "iopub.execute_input": "2022-10-13T08:40:04.923882Z",
     "iopub.status.busy": "2022-10-13T08:40:04.923493Z",
     "iopub.status.idle": "2022-10-13T08:40:04.928354Z",
     "shell.execute_reply": "2022-10-13T08:40:04.927400Z"
    },
    "papermill": {
     "duration": 0.031469,
     "end_time": "2022-10-13T08:40:04.930541",
     "exception": false,
     "start_time": "2022-10-13T08:40:04.899072",
     "status": "completed"
    },
    "tags": []
   },
   "outputs": [],
   "source": [
    "def p(s):\n",
    "    ans = s.split('-')[2]\n",
    "    ans = ans.split(' ')[0]\n",
    "    return ans "
   ]
  },
  {
   "cell_type": "code",
   "execution_count": 9,
   "id": "8cc69227",
   "metadata": {
    "execution": {
     "iopub.execute_input": "2022-10-13T08:40:04.975694Z",
     "iopub.status.busy": "2022-10-13T08:40:04.975067Z",
     "iopub.status.idle": "2022-10-13T08:40:08.470457Z",
     "shell.execute_reply": "2022-10-13T08:40:08.469349Z"
    },
    "papermill": {
     "duration": 3.520997,
     "end_time": "2022-10-13T08:40:08.473006",
     "exception": false,
     "start_time": "2022-10-13T08:40:04.952009",
     "status": "completed"
    },
    "tags": []
   },
   "outputs": [
    {
     "data": {
      "text/html": [
       "<div>\n",
       "<style scoped>\n",
       "    .dataframe tbody tr th:only-of-type {\n",
       "        vertical-align: middle;\n",
       "    }\n",
       "\n",
       "    .dataframe tbody tr th {\n",
       "        vertical-align: top;\n",
       "    }\n",
       "\n",
       "    .dataframe thead th {\n",
       "        text-align: right;\n",
       "    }\n",
       "</style>\n",
       "<table border=\"1\" class=\"dataframe\">\n",
       "  <thead>\n",
       "    <tr style=\"text-align: right;\">\n",
       "      <th></th>\n",
       "      <th>creation_day</th>\n",
       "    </tr>\n",
       "  </thead>\n",
       "  <tbody>\n",
       "    <tr>\n",
       "      <th>0</th>\n",
       "      <td>01</td>\n",
       "    </tr>\n",
       "    <tr>\n",
       "      <th>1</th>\n",
       "      <td>01</td>\n",
       "    </tr>\n",
       "    <tr>\n",
       "      <th>2</th>\n",
       "      <td>01</td>\n",
       "    </tr>\n",
       "    <tr>\n",
       "      <th>3</th>\n",
       "      <td>01</td>\n",
       "    </tr>\n",
       "    <tr>\n",
       "      <th>4</th>\n",
       "      <td>01</td>\n",
       "    </tr>\n",
       "  </tbody>\n",
       "</table>\n",
       "</div>"
      ],
      "text/plain": [
       "  creation_day\n",
       "0           01\n",
       "1           01\n",
       "2           01\n",
       "3           01\n",
       "4           01"
      ]
     },
     "execution_count": 9,
     "metadata": {},
     "output_type": "execute_result"
    }
   ],
   "source": [
    "b['creation_day'] = b['creation_time'].apply(p)\n",
    "b[['creation_day']].head()"
   ]
  },
  {
   "cell_type": "code",
   "execution_count": 10,
   "id": "23dc5b58",
   "metadata": {
    "execution": {
     "iopub.execute_input": "2022-10-13T08:40:08.520296Z",
     "iopub.status.busy": "2022-10-13T08:40:08.519313Z",
     "iopub.status.idle": "2022-10-13T08:40:12.466009Z",
     "shell.execute_reply": "2022-10-13T08:40:12.464668Z"
    },
    "papermill": {
     "duration": 3.973755,
     "end_time": "2022-10-13T08:40:12.468705",
     "exception": false,
     "start_time": "2022-10-13T08:40:08.494950",
     "status": "completed"
    },
    "tags": []
   },
   "outputs": [
    {
     "data": {
      "text/html": [
       "<div>\n",
       "<style scoped>\n",
       "    .dataframe tbody tr th:only-of-type {\n",
       "        vertical-align: middle;\n",
       "    }\n",
       "\n",
       "    .dataframe tbody tr th {\n",
       "        vertical-align: top;\n",
       "    }\n",
       "\n",
       "    .dataframe thead th {\n",
       "        text-align: right;\n",
       "    }\n",
       "</style>\n",
       "<table border=\"1\" class=\"dataframe\">\n",
       "  <thead>\n",
       "    <tr style=\"text-align: right;\">\n",
       "      <th></th>\n",
       "      <th>login_day</th>\n",
       "    </tr>\n",
       "  </thead>\n",
       "  <tbody>\n",
       "    <tr>\n",
       "      <th>0</th>\n",
       "      <td>01</td>\n",
       "    </tr>\n",
       "    <tr>\n",
       "      <th>1</th>\n",
       "      <td>01</td>\n",
       "    </tr>\n",
       "    <tr>\n",
       "      <th>2</th>\n",
       "      <td>01</td>\n",
       "    </tr>\n",
       "    <tr>\n",
       "      <th>3</th>\n",
       "      <td>01</td>\n",
       "    </tr>\n",
       "    <tr>\n",
       "      <th>4</th>\n",
       "      <td>01</td>\n",
       "    </tr>\n",
       "  </tbody>\n",
       "</table>\n",
       "</div>"
      ],
      "text/plain": [
       "  login_day\n",
       "0        01\n",
       "1        01\n",
       "2        01\n",
       "3        01\n",
       "4        01"
      ]
     },
     "execution_count": 10,
     "metadata": {},
     "output_type": "execute_result"
    }
   ],
   "source": [
    "b['login_day'] = b['login_time'].apply(p)\n",
    "b[['login_day']].head()"
   ]
  },
  {
   "cell_type": "markdown",
   "id": "98e6780b",
   "metadata": {
    "papermill": {
     "duration": 0.021786,
     "end_time": "2022-10-13T08:40:12.513419",
     "exception": false,
     "start_time": "2022-10-13T08:40:12.491633",
     "status": "completed"
    },
    "tags": []
   },
   "source": [
    "### Exploring the dataset\n",
    "\n",
    "we have given our data set name **b**\n"
   ]
  },
  {
   "cell_type": "code",
   "execution_count": 11,
   "id": "9a73ca03",
   "metadata": {
    "execution": {
     "iopub.execute_input": "2022-10-13T08:40:12.560124Z",
     "iopub.status.busy": "2022-10-13T08:40:12.559073Z",
     "iopub.status.idle": "2022-10-13T08:40:12.584618Z",
     "shell.execute_reply": "2022-10-13T08:40:12.583500Z"
    },
    "papermill": {
     "duration": 0.051222,
     "end_time": "2022-10-13T08:40:12.586959",
     "exception": false,
     "start_time": "2022-10-13T08:40:12.535737",
     "status": "completed"
    },
    "tags": []
   },
   "outputs": [
    {
     "data": {
      "text/html": [
       "<div>\n",
       "<style scoped>\n",
       "    .dataframe tbody tr th:only-of-type {\n",
       "        vertical-align: middle;\n",
       "    }\n",
       "\n",
       "    .dataframe tbody tr th {\n",
       "        vertical-align: top;\n",
       "    }\n",
       "\n",
       "    .dataframe thead th {\n",
       "        text-align: right;\n",
       "    }\n",
       "</style>\n",
       "<table border=\"1\" class=\"dataframe\">\n",
       "  <thead>\n",
       "    <tr style=\"text-align: right;\">\n",
       "      <th></th>\n",
       "      <th>order_id</th>\n",
       "      <th>fk_buyer_id</th>\n",
       "      <th>fk_depot_id</th>\n",
       "      <th>sales_order_status</th>\n",
       "      <th>creation_time</th>\n",
       "      <th>order_item_id</th>\n",
       "      <th>fk_product_id</th>\n",
       "      <th>fk_order_id</th>\n",
       "      <th>ordered_quantity</th>\n",
       "      <th>order_quantity_accepted</th>\n",
       "      <th>rate</th>\n",
       "      <th>login_log_id</th>\n",
       "      <th>user_id</th>\n",
       "      <th>login_time</th>\n",
       "      <th>creation_year</th>\n",
       "      <th>order_year</th>\n",
       "      <th>login_year</th>\n",
       "      <th>creation_day</th>\n",
       "      <th>login_day</th>\n",
       "    </tr>\n",
       "  </thead>\n",
       "  <tbody>\n",
       "    <tr>\n",
       "      <th>0</th>\n",
       "      <td>119874</td>\n",
       "      <td>82228</td>\n",
       "      <td>5</td>\n",
       "      <td>Rejected</td>\n",
       "      <td>2021-07-01 00:35:28.0</td>\n",
       "      <td>62609</td>\n",
       "      <td>7818</td>\n",
       "      <td>119874</td>\n",
       "      <td>1</td>\n",
       "      <td>0</td>\n",
       "      <td>4993.000</td>\n",
       "      <td>1385357</td>\n",
       "      <td>82228</td>\n",
       "      <td>2021-07-01 00:34:36.0</td>\n",
       "      <td>2021</td>\n",
       "      <td>2021</td>\n",
       "      <td>2021</td>\n",
       "      <td>01</td>\n",
       "      <td>01</td>\n",
       "    </tr>\n",
       "    <tr>\n",
       "      <th>1</th>\n",
       "      <td>119874</td>\n",
       "      <td>82228</td>\n",
       "      <td>5</td>\n",
       "      <td>Rejected</td>\n",
       "      <td>2021-07-01 00:35:28.0</td>\n",
       "      <td>62609</td>\n",
       "      <td>7818</td>\n",
       "      <td>119874</td>\n",
       "      <td>1</td>\n",
       "      <td>0</td>\n",
       "      <td>4993.000</td>\n",
       "      <td>1385358</td>\n",
       "      <td>82228</td>\n",
       "      <td>2021-07-01 00:35:04.0</td>\n",
       "      <td>2021</td>\n",
       "      <td>2021</td>\n",
       "      <td>2021</td>\n",
       "      <td>01</td>\n",
       "      <td>01</td>\n",
       "    </tr>\n",
       "    <tr>\n",
       "      <th>2</th>\n",
       "      <td>119874</td>\n",
       "      <td>82228</td>\n",
       "      <td>5</td>\n",
       "      <td>Rejected</td>\n",
       "      <td>2021-07-01 00:35:28.0</td>\n",
       "      <td>62609</td>\n",
       "      <td>7818</td>\n",
       "      <td>119874</td>\n",
       "      <td>1</td>\n",
       "      <td>0</td>\n",
       "      <td>4993.000</td>\n",
       "      <td>1385360</td>\n",
       "      <td>82228</td>\n",
       "      <td>2021-07-01 00:36:32.0</td>\n",
       "      <td>2021</td>\n",
       "      <td>2021</td>\n",
       "      <td>2021</td>\n",
       "      <td>01</td>\n",
       "      <td>01</td>\n",
       "    </tr>\n",
       "    <tr>\n",
       "      <th>3</th>\n",
       "      <td>119874</td>\n",
       "      <td>82228</td>\n",
       "      <td>5</td>\n",
       "      <td>Rejected</td>\n",
       "      <td>2021-07-01 00:35:28.0</td>\n",
       "      <td>62609</td>\n",
       "      <td>7818</td>\n",
       "      <td>119874</td>\n",
       "      <td>1</td>\n",
       "      <td>0</td>\n",
       "      <td>4993.000</td>\n",
       "      <td>1385361</td>\n",
       "      <td>82228</td>\n",
       "      <td>2021-07-01 00:37:19.0</td>\n",
       "      <td>2021</td>\n",
       "      <td>2021</td>\n",
       "      <td>2021</td>\n",
       "      <td>01</td>\n",
       "      <td>01</td>\n",
       "    </tr>\n",
       "    <tr>\n",
       "      <th>4</th>\n",
       "      <td>119874</td>\n",
       "      <td>82228</td>\n",
       "      <td>5</td>\n",
       "      <td>Rejected</td>\n",
       "      <td>2021-07-01 00:35:28.0</td>\n",
       "      <td>62609</td>\n",
       "      <td>7818</td>\n",
       "      <td>119874</td>\n",
       "      <td>1</td>\n",
       "      <td>0</td>\n",
       "      <td>4993.000</td>\n",
       "      <td>1385362</td>\n",
       "      <td>82228</td>\n",
       "      <td>2021-07-01 00:37:32.0</td>\n",
       "      <td>2021</td>\n",
       "      <td>2021</td>\n",
       "      <td>2021</td>\n",
       "      <td>01</td>\n",
       "      <td>01</td>\n",
       "    </tr>\n",
       "    <tr>\n",
       "      <th>...</th>\n",
       "      <td>...</td>\n",
       "      <td>...</td>\n",
       "      <td>...</td>\n",
       "      <td>...</td>\n",
       "      <td>...</td>\n",
       "      <td>...</td>\n",
       "      <td>...</td>\n",
       "      <td>...</td>\n",
       "      <td>...</td>\n",
       "      <td>...</td>\n",
       "      <td>...</td>\n",
       "      <td>...</td>\n",
       "      <td>...</td>\n",
       "      <td>...</td>\n",
       "      <td>...</td>\n",
       "      <td>...</td>\n",
       "      <td>...</td>\n",
       "      <td>...</td>\n",
       "      <td>...</td>\n",
       "    </tr>\n",
       "    <tr>\n",
       "      <th>3396785</th>\n",
       "      <td>318972</td>\n",
       "      <td>190076</td>\n",
       "      <td>9</td>\n",
       "      <td>Shipped</td>\n",
       "      <td>2022-07-30 18:17:49.0</td>\n",
       "      <td>157588</td>\n",
       "      <td>8421</td>\n",
       "      <td>318972</td>\n",
       "      <td>1</td>\n",
       "      <td>1</td>\n",
       "      <td>4714.000</td>\n",
       "      <td>4669240</td>\n",
       "      <td>190076</td>\n",
       "      <td>2022-07-30 15:17:00.0</td>\n",
       "      <td>2022</td>\n",
       "      <td>2022</td>\n",
       "      <td>2022</td>\n",
       "      <td>30</td>\n",
       "      <td>30</td>\n",
       "    </tr>\n",
       "    <tr>\n",
       "      <th>3396786</th>\n",
       "      <td>318972</td>\n",
       "      <td>190076</td>\n",
       "      <td>9</td>\n",
       "      <td>Shipped</td>\n",
       "      <td>2022-07-30 18:17:49.0</td>\n",
       "      <td>157588</td>\n",
       "      <td>8421</td>\n",
       "      <td>318972</td>\n",
       "      <td>1</td>\n",
       "      <td>1</td>\n",
       "      <td>4714.000</td>\n",
       "      <td>4669628</td>\n",
       "      <td>190076</td>\n",
       "      <td>2022-07-30 16:06:28.0</td>\n",
       "      <td>2022</td>\n",
       "      <td>2022</td>\n",
       "      <td>2022</td>\n",
       "      <td>30</td>\n",
       "      <td>30</td>\n",
       "    </tr>\n",
       "    <tr>\n",
       "      <th>3396787</th>\n",
       "      <td>318972</td>\n",
       "      <td>190076</td>\n",
       "      <td>9</td>\n",
       "      <td>Shipped</td>\n",
       "      <td>2022-07-30 18:17:49.0</td>\n",
       "      <td>157588</td>\n",
       "      <td>8421</td>\n",
       "      <td>318972</td>\n",
       "      <td>1</td>\n",
       "      <td>1</td>\n",
       "      <td>4714.000</td>\n",
       "      <td>4670357</td>\n",
       "      <td>190076</td>\n",
       "      <td>2022-07-30 18:13:09.0</td>\n",
       "      <td>2022</td>\n",
       "      <td>2022</td>\n",
       "      <td>2022</td>\n",
       "      <td>30</td>\n",
       "      <td>30</td>\n",
       "    </tr>\n",
       "    <tr>\n",
       "      <th>3396788</th>\n",
       "      <td>318972</td>\n",
       "      <td>190076</td>\n",
       "      <td>9</td>\n",
       "      <td>Shipped</td>\n",
       "      <td>2022-07-30 18:17:49.0</td>\n",
       "      <td>157588</td>\n",
       "      <td>8421</td>\n",
       "      <td>318972</td>\n",
       "      <td>1</td>\n",
       "      <td>1</td>\n",
       "      <td>4714.000</td>\n",
       "      <td>4670369</td>\n",
       "      <td>190076</td>\n",
       "      <td>2022-07-30 18:17:46.0</td>\n",
       "      <td>2022</td>\n",
       "      <td>2022</td>\n",
       "      <td>2022</td>\n",
       "      <td>30</td>\n",
       "      <td>30</td>\n",
       "    </tr>\n",
       "    <tr>\n",
       "      <th>3396789</th>\n",
       "      <td>318972</td>\n",
       "      <td>190076</td>\n",
       "      <td>9</td>\n",
       "      <td>Shipped</td>\n",
       "      <td>2022-07-30 18:17:49.0</td>\n",
       "      <td>157588</td>\n",
       "      <td>8421</td>\n",
       "      <td>318972</td>\n",
       "      <td>1</td>\n",
       "      <td>1</td>\n",
       "      <td>4714.000</td>\n",
       "      <td>4670372</td>\n",
       "      <td>190076</td>\n",
       "      <td>2022-07-30 18:18:13.0</td>\n",
       "      <td>2022</td>\n",
       "      <td>2022</td>\n",
       "      <td>2022</td>\n",
       "      <td>30</td>\n",
       "      <td>30</td>\n",
       "    </tr>\n",
       "  </tbody>\n",
       "</table>\n",
       "<p>3396790 rows × 19 columns</p>\n",
       "</div>"
      ],
      "text/plain": [
       "         order_id  fk_buyer_id  fk_depot_id sales_order_status  \\\n",
       "0          119874        82228            5           Rejected   \n",
       "1          119874        82228            5           Rejected   \n",
       "2          119874        82228            5           Rejected   \n",
       "3          119874        82228            5           Rejected   \n",
       "4          119874        82228            5           Rejected   \n",
       "...           ...          ...          ...                ...   \n",
       "3396785    318972       190076            9            Shipped   \n",
       "3396786    318972       190076            9            Shipped   \n",
       "3396787    318972       190076            9            Shipped   \n",
       "3396788    318972       190076            9            Shipped   \n",
       "3396789    318972       190076            9            Shipped   \n",
       "\n",
       "                 creation_time  order_item_id  fk_product_id  fk_order_id  \\\n",
       "0        2021-07-01 00:35:28.0          62609           7818       119874   \n",
       "1        2021-07-01 00:35:28.0          62609           7818       119874   \n",
       "2        2021-07-01 00:35:28.0          62609           7818       119874   \n",
       "3        2021-07-01 00:35:28.0          62609           7818       119874   \n",
       "4        2021-07-01 00:35:28.0          62609           7818       119874   \n",
       "...                        ...            ...            ...          ...   \n",
       "3396785  2022-07-30 18:17:49.0         157588           8421       318972   \n",
       "3396786  2022-07-30 18:17:49.0         157588           8421       318972   \n",
       "3396787  2022-07-30 18:17:49.0         157588           8421       318972   \n",
       "3396788  2022-07-30 18:17:49.0         157588           8421       318972   \n",
       "3396789  2022-07-30 18:17:49.0         157588           8421       318972   \n",
       "\n",
       "         ordered_quantity  order_quantity_accepted     rate  login_log_id  \\\n",
       "0                       1                        0 4993.000       1385357   \n",
       "1                       1                        0 4993.000       1385358   \n",
       "2                       1                        0 4993.000       1385360   \n",
       "3                       1                        0 4993.000       1385361   \n",
       "4                       1                        0 4993.000       1385362   \n",
       "...                   ...                      ...      ...           ...   \n",
       "3396785                 1                        1 4714.000       4669240   \n",
       "3396786                 1                        1 4714.000       4669628   \n",
       "3396787                 1                        1 4714.000       4670357   \n",
       "3396788                 1                        1 4714.000       4670369   \n",
       "3396789                 1                        1 4714.000       4670372   \n",
       "\n",
       "         user_id             login_time creation_year order_year login_year  \\\n",
       "0          82228  2021-07-01 00:34:36.0          2021       2021       2021   \n",
       "1          82228  2021-07-01 00:35:04.0          2021       2021       2021   \n",
       "2          82228  2021-07-01 00:36:32.0          2021       2021       2021   \n",
       "3          82228  2021-07-01 00:37:19.0          2021       2021       2021   \n",
       "4          82228  2021-07-01 00:37:32.0          2021       2021       2021   \n",
       "...          ...                    ...           ...        ...        ...   \n",
       "3396785   190076  2022-07-30 15:17:00.0          2022       2022       2022   \n",
       "3396786   190076  2022-07-30 16:06:28.0          2022       2022       2022   \n",
       "3396787   190076  2022-07-30 18:13:09.0          2022       2022       2022   \n",
       "3396788   190076  2022-07-30 18:17:46.0          2022       2022       2022   \n",
       "3396789   190076  2022-07-30 18:18:13.0          2022       2022       2022   \n",
       "\n",
       "        creation_day login_day  \n",
       "0                 01        01  \n",
       "1                 01        01  \n",
       "2                 01        01  \n",
       "3                 01        01  \n",
       "4                 01        01  \n",
       "...              ...       ...  \n",
       "3396785           30        30  \n",
       "3396786           30        30  \n",
       "3396787           30        30  \n",
       "3396788           30        30  \n",
       "3396789           30        30  \n",
       "\n",
       "[3396790 rows x 19 columns]"
      ]
     },
     "execution_count": 11,
     "metadata": {},
     "output_type": "execute_result"
    }
   ],
   "source": [
    "b"
   ]
  },
  {
   "cell_type": "markdown",
   "id": "ec34f838",
   "metadata": {
    "papermill": {
     "duration": 0.0222,
     "end_time": "2022-10-13T08:40:12.631912",
     "exception": false,
     "start_time": "2022-10-13T08:40:12.609712",
     "status": "completed"
    },
    "tags": []
   },
   "source": [
    "### Exploring the dataset"
   ]
  },
  {
   "cell_type": "code",
   "execution_count": 12,
   "id": "fd3e8453",
   "metadata": {
    "execution": {
     "iopub.execute_input": "2022-10-13T08:40:12.678679Z",
     "iopub.status.busy": "2022-10-13T08:40:12.678258Z",
     "iopub.status.idle": "2022-10-13T08:40:12.684805Z",
     "shell.execute_reply": "2022-10-13T08:40:12.683768Z"
    },
    "papermill": {
     "duration": 0.033041,
     "end_time": "2022-10-13T08:40:12.687450",
     "exception": false,
     "start_time": "2022-10-13T08:40:12.654409",
     "status": "completed"
    },
    "tags": []
   },
   "outputs": [
    {
     "data": {
      "text/plain": [
       "(3396790, 19)"
      ]
     },
     "execution_count": 12,
     "metadata": {},
     "output_type": "execute_result"
    }
   ],
   "source": [
    "b.shape"
   ]
  },
  {
   "cell_type": "code",
   "execution_count": 13,
   "id": "0bef3192",
   "metadata": {
    "execution": {
     "iopub.execute_input": "2022-10-13T08:40:12.734761Z",
     "iopub.status.busy": "2022-10-13T08:40:12.734325Z",
     "iopub.status.idle": "2022-10-13T08:40:12.751644Z",
     "shell.execute_reply": "2022-10-13T08:40:12.750466Z"
    },
    "papermill": {
     "duration": 0.043842,
     "end_time": "2022-10-13T08:40:12.754165",
     "exception": false,
     "start_time": "2022-10-13T08:40:12.710323",
     "status": "completed"
    },
    "tags": []
   },
   "outputs": [
    {
     "name": "stdout",
     "output_type": "stream",
     "text": [
      "<class 'pandas.core.frame.DataFrame'>\n",
      "Int64Index: 3396790 entries, 0 to 3396789\n",
      "Data columns (total 19 columns):\n",
      " #   Column                   Dtype  \n",
      "---  ------                   -----  \n",
      " 0   order_id                 int64  \n",
      " 1   fk_buyer_id              int64  \n",
      " 2   fk_depot_id              int64  \n",
      " 3   sales_order_status       object \n",
      " 4   creation_time            object \n",
      " 5   order_item_id            int64  \n",
      " 6   fk_product_id            int64  \n",
      " 7   fk_order_id              int64  \n",
      " 8   ordered_quantity         int64  \n",
      " 9   order_quantity_accepted  int64  \n",
      " 10  rate                     float64\n",
      " 11  login_log_id             int64  \n",
      " 12  user_id                  int64  \n",
      " 13  login_time               object \n",
      " 14  creation_year            object \n",
      " 15  order_year               object \n",
      " 16  login_year               object \n",
      " 17  creation_day             object \n",
      " 18  login_day                object \n",
      "dtypes: float64(1), int64(10), object(8)\n",
      "memory usage: 518.3+ MB\n"
     ]
    }
   ],
   "source": [
    "b.info()"
   ]
  },
  {
   "cell_type": "markdown",
   "id": "65af7f02",
   "metadata": {
    "papermill": {
     "duration": 0.022998,
     "end_time": "2022-10-13T08:40:12.803511",
     "exception": false,
     "start_time": "2022-10-13T08:40:12.780513",
     "status": "completed"
    },
    "tags": []
   },
   "source": [
    "### Checking Null Values of each column"
   ]
  },
  {
   "cell_type": "code",
   "execution_count": 14,
   "id": "80751c41",
   "metadata": {
    "execution": {
     "iopub.execute_input": "2022-10-13T08:40:12.851550Z",
     "iopub.status.busy": "2022-10-13T08:40:12.851091Z",
     "iopub.status.idle": "2022-10-13T08:40:14.157645Z",
     "shell.execute_reply": "2022-10-13T08:40:14.156466Z"
    },
    "papermill": {
     "duration": 1.333235,
     "end_time": "2022-10-13T08:40:14.160177",
     "exception": false,
     "start_time": "2022-10-13T08:40:12.826942",
     "status": "completed"
    },
    "tags": []
   },
   "outputs": [
    {
     "data": {
      "text/plain": [
       "order_id                   0\n",
       "fk_buyer_id                0\n",
       "fk_depot_id                0\n",
       "sales_order_status         0\n",
       "creation_time              0\n",
       "order_item_id              0\n",
       "fk_product_id              0\n",
       "fk_order_id                0\n",
       "ordered_quantity           0\n",
       "order_quantity_accepted    0\n",
       "rate                       0\n",
       "login_log_id               0\n",
       "user_id                    0\n",
       "login_time                 0\n",
       "creation_year              0\n",
       "order_year                 0\n",
       "login_year                 0\n",
       "creation_day               0\n",
       "login_day                  0\n",
       "dtype: int64"
      ]
     },
     "execution_count": 14,
     "metadata": {},
     "output_type": "execute_result"
    }
   ],
   "source": [
    "b.isnull().sum()"
   ]
  },
  {
   "cell_type": "markdown",
   "id": "bfc67a33",
   "metadata": {
    "papermill": {
     "duration": 0.022429,
     "end_time": "2022-10-13T08:40:14.205822",
     "exception": false,
     "start_time": "2022-10-13T08:40:14.183393",
     "status": "completed"
    },
    "tags": []
   },
   "source": [
    "### <span style=\"color:#ff3300\">  Analyzing Phase</span> <a class=\"anchor\" id=\"analyze_phase_5\"></a>\n",
    "\n",
    "We will analyze trends in the user's marketing strategy. Now that we are ready for an exploration of our data. Let's start with understanding the unique values and categorical data that we have in our dataset for better decisions.\n",
    "\n",
    "We will be Asking And Answering Some Questions and we will also use **KPIs (key performance indicators)** for Analyzing the data for the performance of the app.\n",
    "\n"
   ]
  },
  {
   "cell_type": "markdown",
   "id": "ad2a3c77",
   "metadata": {
    "papermill": {
     "duration": 0.022286,
     "end_time": "2022-10-13T08:40:14.250840",
     "exception": false,
     "start_time": "2022-10-13T08:40:14.228554",
     "status": "completed"
    },
    "tags": []
   },
   "source": [
    "#### Finding the Total User's  Company have."
   ]
  },
  {
   "cell_type": "code",
   "execution_count": 15,
   "id": "13566bad",
   "metadata": {
    "execution": {
     "iopub.execute_input": "2022-10-13T08:40:14.298516Z",
     "iopub.status.busy": "2022-10-13T08:40:14.298107Z",
     "iopub.status.idle": "2022-10-13T08:40:14.388169Z",
     "shell.execute_reply": "2022-10-13T08:40:14.386920Z"
    },
    "papermill": {
     "duration": 0.117657,
     "end_time": "2022-10-13T08:40:14.391326",
     "exception": false,
     "start_time": "2022-10-13T08:40:14.273669",
     "status": "completed"
    },
    "tags": []
   },
   "outputs": [
    {
     "data": {
      "text/plain": [
       "4832"
      ]
     },
     "execution_count": 15,
     "metadata": {},
     "output_type": "execute_result"
    }
   ],
   "source": [
    "total_user = b.groupby(['user_id'])['user_id'].count().count()\n",
    "total_user"
   ]
  },
  {
   "cell_type": "markdown",
   "id": "dc630afa",
   "metadata": {
    "papermill": {
     "duration": 0.02259,
     "end_time": "2022-10-13T08:40:14.437017",
     "exception": false,
     "start_time": "2022-10-13T08:40:14.414427",
     "status": "completed"
    },
    "tags": []
   },
   "source": [
    "#### now examining the users in different year (2021-2022)"
   ]
  },
  {
   "cell_type": "code",
   "execution_count": 16,
   "id": "d32e993d",
   "metadata": {
    "execution": {
     "iopub.execute_input": "2022-10-13T08:40:14.485103Z",
     "iopub.status.busy": "2022-10-13T08:40:14.484705Z",
     "iopub.status.idle": "2022-10-13T08:40:14.921262Z",
     "shell.execute_reply": "2022-10-13T08:40:14.919936Z"
    },
    "papermill": {
     "duration": 0.463419,
     "end_time": "2022-10-13T08:40:14.923648",
     "exception": false,
     "start_time": "2022-10-13T08:40:14.460229",
     "status": "completed"
    },
    "tags": []
   },
   "outputs": [
    {
     "data": {
      "text/html": [
       "<div>\n",
       "<style scoped>\n",
       "    .dataframe tbody tr th:only-of-type {\n",
       "        vertical-align: middle;\n",
       "    }\n",
       "\n",
       "    .dataframe tbody tr th {\n",
       "        vertical-align: top;\n",
       "    }\n",
       "\n",
       "    .dataframe thead th {\n",
       "        text-align: right;\n",
       "    }\n",
       "</style>\n",
       "<table border=\"1\" class=\"dataframe\">\n",
       "  <thead>\n",
       "    <tr style=\"text-align: right;\">\n",
       "      <th></th>\n",
       "      <th>creation_year</th>\n",
       "      <th>user_id</th>\n",
       "    </tr>\n",
       "  </thead>\n",
       "  <tbody>\n",
       "    <tr>\n",
       "      <th>0</th>\n",
       "      <td>2021</td>\n",
       "      <td>2452</td>\n",
       "    </tr>\n",
       "    <tr>\n",
       "      <th>1</th>\n",
       "      <td>2022</td>\n",
       "      <td>2980</td>\n",
       "    </tr>\n",
       "  </tbody>\n",
       "</table>\n",
       "</div>"
      ],
      "text/plain": [
       "  creation_year  user_id\n",
       "0          2021     2452\n",
       "1          2022     2980"
      ]
     },
     "execution_count": 16,
     "metadata": {},
     "output_type": "execute_result"
    }
   ],
   "source": [
    "users =  b.groupby(['creation_year']).agg({'user_id':pd.Series.nunique}).reset_index()\n",
    "users.head()  "
   ]
  },
  {
   "cell_type": "markdown",
   "id": "a2257f60",
   "metadata": {
    "papermill": {
     "duration": 0.023861,
     "end_time": "2022-10-13T08:40:14.971505",
     "exception": false,
     "start_time": "2022-10-13T08:40:14.947644",
     "status": "completed"
    },
    "tags": []
   },
   "source": [
    "#### Number of user's in 2021\n"
   ]
  },
  {
   "cell_type": "code",
   "execution_count": 17,
   "id": "ff88594a",
   "metadata": {
    "execution": {
     "iopub.execute_input": "2022-10-13T08:40:15.022130Z",
     "iopub.status.busy": "2022-10-13T08:40:15.021717Z",
     "iopub.status.idle": "2022-10-13T08:40:15.035667Z",
     "shell.execute_reply": "2022-10-13T08:40:15.034722Z"
    },
    "papermill": {
     "duration": 0.042278,
     "end_time": "2022-10-13T08:40:15.037972",
     "exception": false,
     "start_time": "2022-10-13T08:40:14.995694",
     "status": "completed"
    },
    "tags": []
   },
   "outputs": [
    {
     "data": {
      "text/html": [
       "<div>\n",
       "<style scoped>\n",
       "    .dataframe tbody tr th:only-of-type {\n",
       "        vertical-align: middle;\n",
       "    }\n",
       "\n",
       "    .dataframe tbody tr th {\n",
       "        vertical-align: top;\n",
       "    }\n",
       "\n",
       "    .dataframe thead th {\n",
       "        text-align: right;\n",
       "    }\n",
       "</style>\n",
       "<table border=\"1\" class=\"dataframe\">\n",
       "  <thead>\n",
       "    <tr style=\"text-align: right;\">\n",
       "      <th></th>\n",
       "      <th>index</th>\n",
       "      <th>creation_year</th>\n",
       "      <th>user_id</th>\n",
       "    </tr>\n",
       "  </thead>\n",
       "  <tbody>\n",
       "    <tr>\n",
       "      <th>0</th>\n",
       "      <td>0</td>\n",
       "      <td>2021</td>\n",
       "      <td>2452</td>\n",
       "    </tr>\n",
       "  </tbody>\n",
       "</table>\n",
       "</div>"
      ],
      "text/plain": [
       "   index creation_year  user_id\n",
       "0      0          2021     2452"
      ]
     },
     "execution_count": 17,
     "metadata": {},
     "output_type": "execute_result"
    }
   ],
   "source": [
    "total_user_2021 = users[users['creation_year']== '2021'][['creation_year','user_id']].reset_index()\n",
    "total_user_2021.head()"
   ]
  },
  {
   "cell_type": "markdown",
   "id": "89606bbf",
   "metadata": {
    "papermill": {
     "duration": 0.023439,
     "end_time": "2022-10-13T08:40:15.086039",
     "exception": false,
     "start_time": "2022-10-13T08:40:15.062600",
     "status": "completed"
    },
    "tags": []
   },
   "source": [
    "#### Number of user's in 2022"
   ]
  },
  {
   "cell_type": "code",
   "execution_count": 18,
   "id": "6f2db1af",
   "metadata": {
    "execution": {
     "iopub.execute_input": "2022-10-13T08:40:15.137721Z",
     "iopub.status.busy": "2022-10-13T08:40:15.136512Z",
     "iopub.status.idle": "2022-10-13T08:40:15.149400Z",
     "shell.execute_reply": "2022-10-13T08:40:15.148491Z"
    },
    "papermill": {
     "duration": 0.04099,
     "end_time": "2022-10-13T08:40:15.151721",
     "exception": false,
     "start_time": "2022-10-13T08:40:15.110731",
     "status": "completed"
    },
    "scrolled": true,
    "tags": []
   },
   "outputs": [
    {
     "data": {
      "text/html": [
       "<div>\n",
       "<style scoped>\n",
       "    .dataframe tbody tr th:only-of-type {\n",
       "        vertical-align: middle;\n",
       "    }\n",
       "\n",
       "    .dataframe tbody tr th {\n",
       "        vertical-align: top;\n",
       "    }\n",
       "\n",
       "    .dataframe thead th {\n",
       "        text-align: right;\n",
       "    }\n",
       "</style>\n",
       "<table border=\"1\" class=\"dataframe\">\n",
       "  <thead>\n",
       "    <tr style=\"text-align: right;\">\n",
       "      <th></th>\n",
       "      <th>index</th>\n",
       "      <th>creation_year</th>\n",
       "      <th>user_id</th>\n",
       "    </tr>\n",
       "  </thead>\n",
       "  <tbody>\n",
       "    <tr>\n",
       "      <th>0</th>\n",
       "      <td>1</td>\n",
       "      <td>2022</td>\n",
       "      <td>2980</td>\n",
       "    </tr>\n",
       "  </tbody>\n",
       "</table>\n",
       "</div>"
      ],
      "text/plain": [
       "   index creation_year  user_id\n",
       "0      1          2022     2980"
      ]
     },
     "execution_count": 18,
     "metadata": {},
     "output_type": "execute_result"
    }
   ],
   "source": [
    "total_user_2022 = users[users['creation_year']== '2022'][['creation_year','user_id']].reset_index()\n",
    "total_user_2022.head()"
   ]
  },
  {
   "cell_type": "markdown",
   "id": "4300a01f",
   "metadata": {
    "papermill": {
     "duration": 0.023137,
     "end_time": "2022-10-13T08:40:15.198643",
     "exception": false,
     "start_time": "2022-10-13T08:40:15.175506",
     "status": "completed"
    },
    "tags": []
   },
   "source": [
    "#### Now, let's find out the user's engagement"
   ]
  },
  {
   "cell_type": "code",
   "execution_count": 19,
   "id": "5ffc30f0",
   "metadata": {
    "execution": {
     "iopub.execute_input": "2022-10-13T08:40:15.248237Z",
     "iopub.status.busy": "2022-10-13T08:40:15.247100Z",
     "iopub.status.idle": "2022-10-13T08:40:16.680409Z",
     "shell.execute_reply": "2022-10-13T08:40:16.679127Z"
    },
    "papermill": {
     "duration": 1.461235,
     "end_time": "2022-10-13T08:40:16.683339",
     "exception": false,
     "start_time": "2022-10-13T08:40:15.222104",
     "status": "completed"
    },
    "tags": []
   },
   "outputs": [],
   "source": [
    "b21 =  b[b['creation_year']=='2021']\n",
    "b22 =  b[b['creation_year']=='2022']\n",
    "b21 = b21.groupby(\"user_id\").agg({'order_id':'count'}).reset_index() \n",
    "b22 = b22.groupby(\"user_id\").agg({'order_id':'count'}).reset_index() \n",
    "b21['user_id21'] = b21['user_id']\n",
    "b22['user_id22'] = b22['user_id']\n",
    "b21 = b21.drop(['order_id','user_id'],axis=1)\n",
    "b22 = b22.drop(['order_id','user_id'],axis=1)\n"
   ]
  },
  {
   "cell_type": "code",
   "execution_count": 20,
   "id": "be7e5b6a",
   "metadata": {
    "execution": {
     "iopub.execute_input": "2022-10-13T08:40:16.733871Z",
     "iopub.status.busy": "2022-10-13T08:40:16.732571Z",
     "iopub.status.idle": "2022-10-13T08:40:16.768637Z",
     "shell.execute_reply": "2022-10-13T08:40:16.767218Z"
    },
    "papermill": {
     "duration": 0.064249,
     "end_time": "2022-10-13T08:40:16.771586",
     "exception": false,
     "start_time": "2022-10-13T08:40:16.707337",
     "status": "completed"
    },
    "tags": []
   },
   "outputs": [],
   "source": [
    "u_l = pd.merge(b21, b22,left_on = 'user_id21', right_on = 'user_id22', how=\"outer\", indicator=True\n",
    "              ).query('_merge==\"left_only\"')\n",
    "n_u_2022 = pd.merge(b21, b22, left_on = 'user_id21', right_on = 'user_id22', how=\"outer\", indicator=True\n",
    "              ).query('_merge==\"right_only\"')"
   ]
  },
  {
   "cell_type": "markdown",
   "id": "de542298",
   "metadata": {
    "papermill": {
     "duration": 0.024144,
     "end_time": "2022-10-13T08:40:16.820661",
     "exception": false,
     "start_time": "2022-10-13T08:40:16.796517",
     "status": "completed"
    },
    "tags": []
   },
   "source": [
    "### Total  Number of user's in 2021 and 2022"
   ]
  },
  {
   "cell_type": "code",
   "execution_count": 21,
   "id": "b8561f53",
   "metadata": {
    "execution": {
     "iopub.execute_input": "2022-10-13T08:40:16.871625Z",
     "iopub.status.busy": "2022-10-13T08:40:16.870707Z",
     "iopub.status.idle": "2022-10-13T08:40:16.877231Z",
     "shell.execute_reply": "2022-10-13T08:40:16.876279Z"
    },
    "papermill": {
     "duration": 0.034562,
     "end_time": "2022-10-13T08:40:16.879619",
     "exception": false,
     "start_time": "2022-10-13T08:40:16.845057",
     "status": "completed"
    },
    "tags": []
   },
   "outputs": [
    {
     "data": {
      "text/plain": [
       "4832"
      ]
     },
     "execution_count": 21,
     "metadata": {},
     "output_type": "execute_result"
    }
   ],
   "source": [
    "total_user"
   ]
  },
  {
   "cell_type": "markdown",
   "id": "ea78874c",
   "metadata": {
    "papermill": {
     "duration": 0.025032,
     "end_time": "2022-10-13T08:40:16.929317",
     "exception": false,
     "start_time": "2022-10-13T08:40:16.904285",
     "status": "completed"
    },
    "tags": []
   },
   "source": [
    "#### Number of user's in 2021 "
   ]
  },
  {
   "cell_type": "code",
   "execution_count": 22,
   "id": "5398c224",
   "metadata": {
    "execution": {
     "iopub.execute_input": "2022-10-13T08:40:16.981226Z",
     "iopub.status.busy": "2022-10-13T08:40:16.980115Z",
     "iopub.status.idle": "2022-10-13T08:40:16.987645Z",
     "shell.execute_reply": "2022-10-13T08:40:16.986733Z"
    },
    "papermill": {
     "duration": 0.035912,
     "end_time": "2022-10-13T08:40:16.989773",
     "exception": false,
     "start_time": "2022-10-13T08:40:16.953861",
     "status": "completed"
    },
    "tags": []
   },
   "outputs": [
    {
     "data": {
      "text/plain": [
       "2452"
      ]
     },
     "execution_count": 22,
     "metadata": {},
     "output_type": "execute_result"
    }
   ],
   "source": [
    "user_at_start = total_user_2021['user_id']\n",
    "user_at_start.iloc[0]"
   ]
  },
  {
   "cell_type": "markdown",
   "id": "604e505c",
   "metadata": {
    "papermill": {
     "duration": 0.024347,
     "end_time": "2022-10-13T08:40:17.039014",
     "exception": false,
     "start_time": "2022-10-13T08:40:17.014667",
     "status": "completed"
    },
    "tags": []
   },
   "source": [
    "#### Number of user's in 2022"
   ]
  },
  {
   "cell_type": "code",
   "execution_count": 23,
   "id": "3ab5fdc6",
   "metadata": {
    "execution": {
     "iopub.execute_input": "2022-10-13T08:40:17.089999Z",
     "iopub.status.busy": "2022-10-13T08:40:17.089230Z",
     "iopub.status.idle": "2022-10-13T08:40:17.096372Z",
     "shell.execute_reply": "2022-10-13T08:40:17.095509Z"
    },
    "papermill": {
     "duration": 0.034739,
     "end_time": "2022-10-13T08:40:17.098525",
     "exception": false,
     "start_time": "2022-10-13T08:40:17.063786",
     "status": "completed"
    },
    "tags": []
   },
   "outputs": [
    {
     "data": {
      "text/plain": [
       "2980"
      ]
     },
     "execution_count": 23,
     "metadata": {},
     "output_type": "execute_result"
    }
   ],
   "source": [
    "user_at_end = total_user_2022['user_id']\n",
    "user_at_end.iloc[0]\n"
   ]
  },
  {
   "cell_type": "markdown",
   "id": "537d1243",
   "metadata": {
    "papermill": {
     "duration": 0.024034,
     "end_time": "2022-10-13T08:40:17.147301",
     "exception": false,
     "start_time": "2022-10-13T08:40:17.123267",
     "status": "completed"
    },
    "tags": []
   },
   "source": [
    "#### Total number of user's lost from 2021"
   ]
  },
  {
   "cell_type": "code",
   "execution_count": 24,
   "id": "ba59ac31",
   "metadata": {
    "execution": {
     "iopub.execute_input": "2022-10-13T08:40:17.198554Z",
     "iopub.status.busy": "2022-10-13T08:40:17.197317Z",
     "iopub.status.idle": "2022-10-13T08:40:17.205971Z",
     "shell.execute_reply": "2022-10-13T08:40:17.204939Z"
    },
    "papermill": {
     "duration": 0.036294,
     "end_time": "2022-10-13T08:40:17.208259",
     "exception": false,
     "start_time": "2022-10-13T08:40:17.171965",
     "status": "completed"
    },
    "tags": []
   },
   "outputs": [
    {
     "data": {
      "text/plain": [
       "1852"
      ]
     },
     "execution_count": 24,
     "metadata": {},
     "output_type": "execute_result"
    }
   ],
   "source": [
    "user_lost = u_l['user_id21'].count()\n",
    "user_lost"
   ]
  },
  {
   "cell_type": "markdown",
   "id": "5a589bcf",
   "metadata": {
    "papermill": {
     "duration": 0.023885,
     "end_time": "2022-10-13T08:40:17.256289",
     "exception": false,
     "start_time": "2022-10-13T08:40:17.232404",
     "status": "completed"
    },
    "tags": []
   },
   "source": [
    "#### Total number of new user's added in 2022 "
   ]
  },
  {
   "cell_type": "code",
   "execution_count": 25,
   "id": "117e9984",
   "metadata": {
    "execution": {
     "iopub.execute_input": "2022-10-13T08:40:17.305929Z",
     "iopub.status.busy": "2022-10-13T08:40:17.305455Z",
     "iopub.status.idle": "2022-10-13T08:40:17.312276Z",
     "shell.execute_reply": "2022-10-13T08:40:17.311503Z"
    },
    "papermill": {
     "duration": 0.034615,
     "end_time": "2022-10-13T08:40:17.314627",
     "exception": false,
     "start_time": "2022-10-13T08:40:17.280012",
     "status": "completed"
    },
    "tags": []
   },
   "outputs": [
    {
     "data": {
      "text/plain": [
       "2380"
      ]
     },
     "execution_count": 25,
     "metadata": {},
     "output_type": "execute_result"
    }
   ],
   "source": [
    "new_user_2022 = n_u_2022['user_id22'].count()\n",
    "new_user_2022"
   ]
  },
  {
   "cell_type": "markdown",
   "id": "289c75dc",
   "metadata": {
    "papermill": {
     "duration": 0.024371,
     "end_time": "2022-10-13T08:40:17.363874",
     "exception": false,
     "start_time": "2022-10-13T08:40:17.339503",
     "status": "completed"
    },
    "tags": []
   },
   "source": [
    "#### Total number of user's who sticks from 2021 and still using app in 2022 "
   ]
  },
  {
   "cell_type": "code",
   "execution_count": 26,
   "id": "8a26c7af",
   "metadata": {
    "execution": {
     "iopub.execute_input": "2022-10-13T08:40:17.415008Z",
     "iopub.status.busy": "2022-10-13T08:40:17.414562Z",
     "iopub.status.idle": "2022-10-13T08:40:17.428106Z",
     "shell.execute_reply": "2022-10-13T08:40:17.426922Z"
    },
    "papermill": {
     "duration": 0.042011,
     "end_time": "2022-10-13T08:40:17.430656",
     "exception": false,
     "start_time": "2022-10-13T08:40:17.388645",
     "status": "completed"
    },
    "tags": []
   },
   "outputs": [
    {
     "data": {
      "text/plain": [
       "600"
      ]
     },
     "execution_count": 26,
     "metadata": {},
     "output_type": "execute_result"
    }
   ],
   "source": [
    "user_stick =  pd.merge(b21,b22,how = 'inner',left_on = 'user_id21', right_on = 'user_id22')\n",
    "user_stick_2021 = user_stick['user_id21'].count()\n",
    "user_stick_2021"
   ]
  },
  {
   "cell_type": "markdown",
   "id": "ef230292",
   "metadata": {
    "papermill": {
     "duration": 0.023857,
     "end_time": "2022-10-13T08:40:17.481183",
     "exception": false,
     "start_time": "2022-10-13T08:40:17.457326",
     "status": "completed"
    },
    "tags": []
   },
   "source": [
    "#### Analyzing by visualizing data of Users Engagement\n",
    "\n",
    " By ploating bar graph "
   ]
  },
  {
   "cell_type": "code",
   "execution_count": 27,
   "id": "66757cc6",
   "metadata": {
    "execution": {
     "iopub.execute_input": "2022-10-13T08:40:17.532501Z",
     "iopub.status.busy": "2022-10-13T08:40:17.531659Z",
     "iopub.status.idle": "2022-10-13T08:40:17.830422Z",
     "shell.execute_reply": "2022-10-13T08:40:17.829194Z"
    },
    "papermill": {
     "duration": 0.327187,
     "end_time": "2022-10-13T08:40:17.832935",
     "exception": false,
     "start_time": "2022-10-13T08:40:17.505748",
     "status": "completed"
    },
    "tags": []
   },
   "outputs": [
    {
     "data": {
      "image/png": "[encoded data removed]",
      "text/plain": [
       "<Figure size 650x500 with 1 Axes>"
      ]
     },
     "metadata": {},
     "output_type": "display_data"
    }
   ],
   "source": [
    "plt.rcdefaults()\n",
    "df = pd.DataFrame({'users': ['user stick', 'user lost', 'new user', 'user at start', 'user end','total users'],\n",
    "                   'users count': [600, 1852, 2380,2452, 2980,4832]})\n",
    "plt.rcParams[\"figure.figsize\"] = (6.5,5)\n",
    "ax = df.plot.bar(x='users', y='users count',width = 0.4, legend=1,color ='#0008b2')\n",
    "ax.set_facecolor(\"orange\")\n",
    "plt.xlabel(\"user's\",fontsize=13,labelpad = 15)\n",
    "plt.ylabel(\"users count\",fontsize=13,labelpad = 15)\n",
    "plt.title(\"User's Insight\",y=1.05,fontsize=15,weight='bold')\n",
    "ax.bar_label(ax.containers[0],padding = 5)\n",
    "plt.ylim(0,5900)\n",
    "plt.xticks(rotation=1)\n",
    "plt.grid(False)\n",
    "plt.show()"
   ]
  },
  {
   "cell_type": "markdown",
   "id": "e8bb26d9",
   "metadata": {
    "papermill": {
     "duration": 0.024954,
     "end_time": "2022-10-13T08:40:17.883370",
     "exception": false,
     "start_time": "2022-10-13T08:40:17.858416",
     "status": "completed"
    },
    "tags": []
   },
   "source": [
    "> ***visualization of Bar chart of User's Insight***"
   ]
  },
  {
   "cell_type": "markdown",
   "id": "b1eaa622",
   "metadata": {
    "papermill": {
     "duration": 0.026686,
     "end_time": "2022-10-13T08:40:17.935357",
     "exception": false,
     "start_time": "2022-10-13T08:40:17.908671",
     "status": "completed"
    },
    "tags": []
   },
   "source": [
    "### KPIs (key performance indicators)\n",
    "\n",
    "So now we are using KPIs (key performance indicators) to measure the progress and insights that help people across the organisation make better decisions. that demonstrates how effectively a company is achieving key progress and for the success of business to reach its targets.\n",
    "\n",
    "\n",
    "\n",
    "\n"
   ]
  },
  {
   "cell_type": "markdown",
   "id": "07a9454d",
   "metadata": {
    "papermill": {
     "duration": 0.025448,
     "end_time": "2022-10-13T08:40:17.987222",
     "exception": false,
     "start_time": "2022-10-13T08:40:17.961774",
     "status": "completed"
    },
    "tags": []
   },
   "source": [
    "\n",
    "#### So, The First KPI we use is :-\n",
    "\n",
    "## <span style=\"color:#ff0000\">  1)  User Growth Rate (KPI)</span> <a class=\"anchor\" id=\"analyze_phase_5\"></a>\n"
   ]
  },
  {
   "cell_type": "code",
   "execution_count": 28,
   "id": "2e0b908e",
   "metadata": {
    "execution": {
     "iopub.execute_input": "2022-10-13T08:40:18.039779Z",
     "iopub.status.busy": "2022-10-13T08:40:18.039332Z",
     "iopub.status.idle": "2022-10-13T08:40:18.249913Z",
     "shell.execute_reply": "2022-10-13T08:40:18.248592Z"
    },
    "papermill": {
     "duration": 0.239736,
     "end_time": "2022-10-13T08:40:18.252603",
     "exception": false,
     "start_time": "2022-10-13T08:40:18.012867",
     "status": "completed"
    },
    "tags": []
   },
   "outputs": [
    {
     "data": {
      "image/png": "[encoded data removed]",
      "text/plain": [
       "<Figure size 500x400 with 1 Axes>"
      ]
     },
     "metadata": {},
     "output_type": "display_data"
    }
   ],
   "source": [
    "df = pd.DataFrame({'users': [ \"user's in 2021\",\"user's in 2022\"],\n",
    "                   'users count': [2452, 2980]})\n",
    "plt.rcParams[\"figure.figsize\"] = (5,4)\n",
    "ax = df.plot.bar(x='users', y='users count',width = 0.2, legend=1,color ='red')\n",
    "ax.set_facecolor(\"#e6e6fa\")\n",
    "plt.xlabel(\"users\",fontsize=13,labelpad = 15)\n",
    "plt.ylabel(\"users count\",fontsize=13,labelpad = 15)\n",
    "plt.title(\"User Growth Rate\",y=1.05,fontsize=16,weight='bold')\n",
    "ax.bar_label(ax.containers[0],padding = 5)\n",
    "plt.ylim(0,3999)\n",
    "plt.xticks(rotation=1)\n",
    "plt.grid(False)\n",
    "plt.show()"
   ]
  },
  {
   "cell_type": "markdown",
   "id": "9f80f157",
   "metadata": {
    "papermill": {
     "duration": 0.025221,
     "end_time": "2022-10-13T08:40:18.303701",
     "exception": false,
     "start_time": "2022-10-13T08:40:18.278480",
     "status": "completed"
    },
    "tags": []
   },
   "source": [
    "> ***visualization of Bar chart of User Growth in 2021 & 2022***"
   ]
  },
  {
   "cell_type": "markdown",
   "id": "e8cab0bc",
   "metadata": {
    "papermill": {
     "duration": 0.025173,
     "end_time": "2022-10-13T08:40:18.354155",
     "exception": false,
     "start_time": "2022-10-13T08:40:18.328982",
     "status": "completed"
    },
    "tags": []
   },
   "source": [
    "\n",
    "\n",
    "\n",
    "\n",
    "## <span style=\"color:#80008b\">   Asking And Answering Some Questions \n",
    "\n",
    "\n",
    "\n",
    "### <span style=\"color:#0000ff\"> Q1.) Did our user base grow?\n",
    "\n",
    "\n",
    "\n",
    "    \n",
    "\n",
    "    "
   ]
  },
  {
   "cell_type": "markdown",
   "id": "2c01f911",
   "metadata": {
    "papermill": {
     "duration": 0.025172,
     "end_time": "2022-10-13T08:40:18.404754",
     "exception": false,
     "start_time": "2022-10-13T08:40:18.379582",
     "status": "completed"
    },
    "tags": []
   },
   "source": [
    "From the above graph, We can see that the number of users in 2021 is **2452** and in the year 2022 it has increased and become **2980** so, yes it is clear that our user base has grown.\n",
    "\n",
    "\n"
   ]
  },
  {
   "cell_type": "markdown",
   "id": "70b74a1e",
   "metadata": {
    "papermill": {
     "duration": 0.02491,
     "end_time": "2022-10-13T08:40:18.455082",
     "exception": false,
     "start_time": "2022-10-13T08:40:18.430172",
     "status": "completed"
    },
    "tags": []
   },
   "source": [
    "#### Second KPI we use is :-\n",
    "\n",
    "## <span style=\"color:#ff0000\">  2) Churn Rate And Retaintion Rate (KPI) </span> <a class=\"anchor\" id=\"analyze_phase_5\"></a>"
   ]
  },
  {
   "cell_type": "markdown",
   "id": "5aaeca86",
   "metadata": {
    "papermill": {
     "duration": 0.025032,
     "end_time": "2022-10-13T08:40:18.505279",
     "exception": false,
     "start_time": "2022-10-13T08:40:18.480247",
     "status": "completed"
    },
    "tags": []
   },
   "source": [
    "### Retaintion Rate"
   ]
  },
  {
   "cell_type": "code",
   "execution_count": 29,
   "id": "74ea2608",
   "metadata": {
    "execution": {
     "iopub.execute_input": "2022-10-13T08:40:18.557663Z",
     "iopub.status.busy": "2022-10-13T08:40:18.557140Z",
     "iopub.status.idle": "2022-10-13T08:40:18.566508Z",
     "shell.execute_reply": "2022-10-13T08:40:18.565328Z"
    },
    "papermill": {
     "duration": 0.038004,
     "end_time": "2022-10-13T08:40:18.568660",
     "exception": false,
     "start_time": "2022-10-13T08:40:18.530656",
     "status": "completed"
    },
    "tags": []
   },
   "outputs": [
    {
     "data": {
      "text/plain": [
       "24.469820554649267"
      ]
     },
     "execution_count": 29,
     "metadata": {},
     "output_type": "execute_result"
    }
   ],
   "source": [
    "r_rate = ((user_at_end - new_user_2022)/user_at_start)*100\n",
    "retaintion_rate = r_rate.iloc[0]\n",
    "retaintion_rate"
   ]
  },
  {
   "cell_type": "markdown",
   "id": "6a1a8600",
   "metadata": {
    "papermill": {
     "duration": 0.026098,
     "end_time": "2022-10-13T08:40:18.621293",
     "exception": false,
     "start_time": "2022-10-13T08:40:18.595195",
     "status": "completed"
    },
    "tags": []
   },
   "source": [
    "### Churn Rate"
   ]
  },
  {
   "cell_type": "code",
   "execution_count": 30,
   "id": "a2e65647",
   "metadata": {
    "execution": {
     "iopub.execute_input": "2022-10-13T08:40:18.675657Z",
     "iopub.status.busy": "2022-10-13T08:40:18.674777Z",
     "iopub.status.idle": "2022-10-13T08:40:18.687852Z",
     "shell.execute_reply": "2022-10-13T08:40:18.685889Z"
    },
    "papermill": {
     "duration": 0.043204,
     "end_time": "2022-10-13T08:40:18.690471",
     "exception": false,
     "start_time": "2022-10-13T08:40:18.647267",
     "status": "completed"
    },
    "tags": []
   },
   "outputs": [
    {
     "data": {
      "text/plain": [
       "75.53017944535073"
      ]
     },
     "execution_count": 30,
     "metadata": {},
     "output_type": "execute_result"
    }
   ],
   "source": [
    "c_rate = ((user_at_start - user_stick_2021)/user_at_start)*100\n",
    "churn_rate =c_rate.iloc[0]\n",
    "churn_rate"
   ]
  },
  {
   "cell_type": "code",
   "execution_count": 31,
   "id": "4fa26b5f",
   "metadata": {
    "execution": {
     "iopub.execute_input": "2022-10-13T08:40:18.756212Z",
     "iopub.status.busy": "2022-10-13T08:40:18.755796Z",
     "iopub.status.idle": "2022-10-13T08:40:18.919302Z",
     "shell.execute_reply": "2022-10-13T08:40:18.918399Z"
    },
    "papermill": {
     "duration": 0.199843,
     "end_time": "2022-10-13T08:40:18.922185",
     "exception": false,
     "start_time": "2022-10-13T08:40:18.722342",
     "status": "completed"
    },
    "tags": []
   },
   "outputs": [
    {
     "data": {
      "image/png": "[encoded data removed]",
      "text/plain": [
       "<Figure size 500x400 with 1 Axes>"
      ]
     },
     "metadata": {},
     "output_type": "display_data"
    }
   ],
   "source": [
    "x = [retaintion_rate,churn_rate]\n",
    "fig, ax = plt.subplots()\n",
    "labels=['Retaintion Rate','Churn Rate']\n",
    "explode = [0,0.07]\n",
    "colors = ['#00008b', '#f97306']\n",
    "ax.pie(x, labels = labels, colors = colors, autopct='%.0f%%',explode = explode)\n",
    "ax.set_title('Churn Rate  VS  Retaintion Rate ',fontsize=14,weight='bold')\n",
    "plt.legend(labels=['Retaintion_rate','Churn_rate'],loc=\"upper center\", bbox_to_anchor=(1.5, 1))\n",
    "plt.show()"
   ]
  },
  {
   "cell_type": "markdown",
   "id": "3876589e",
   "metadata": {
    "papermill": {
     "duration": 0.027375,
     "end_time": "2022-10-13T08:40:18.975787",
     "exception": false,
     "start_time": "2022-10-13T08:40:18.948412",
     "status": "completed"
    },
    "tags": []
   },
   "source": [
    "> ***visualization of pie Chart of Churn Rate & Retaintion Rate***\n",
    "\n",
    "\n",
    "\n",
    "\n",
    "\n",
    "\n",
    "\n",
    "##### \n",
    "\n",
    "\n",
    "\n"
   ]
  },
  {
   "cell_type": "markdown",
   "id": "2f6fec9a",
   "metadata": {
    "papermill": {
     "duration": 0.02626,
     "end_time": "2022-10-13T08:40:19.028271",
     "exception": false,
     "start_time": "2022-10-13T08:40:19.002011",
     "status": "completed"
    },
    "tags": []
   },
   "source": [
    "\n",
    "#### Third KPI is :-\n",
    "## <span style=\"color:#ff0000\">  3)  Active users (KPI) </span> <a class=\"anchor\" id=\"analyze_phase_5\"></a>"
   ]
  },
  {
   "cell_type": "markdown",
   "id": "da179f18",
   "metadata": {
    "papermill": {
     "duration": 0.025811,
     "end_time": "2022-10-13T08:40:19.080405",
     "exception": false,
     "start_time": "2022-10-13T08:40:19.054594",
     "status": "completed"
    },
    "tags": []
   },
   "source": [
    "### Daily Active User (DAU) 2021\n",
    "\n",
    "Knowing how many people have used your app in one day in the month July 2021"
   ]
  },
  {
   "cell_type": "code",
   "execution_count": 32,
   "id": "2998a9a3",
   "metadata": {
    "execution": {
     "iopub.execute_input": "2022-10-13T08:40:19.136458Z",
     "iopub.status.busy": "2022-10-13T08:40:19.135203Z",
     "iopub.status.idle": "2022-10-13T08:40:20.107813Z",
     "shell.execute_reply": "2022-10-13T08:40:20.106465Z"
    },
    "papermill": {
     "duration": 1.003406,
     "end_time": "2022-10-13T08:40:20.110506",
     "exception": false,
     "start_time": "2022-10-13T08:40:19.107100",
     "status": "completed"
    },
    "tags": []
   },
   "outputs": [
    {
     "data": {
      "text/html": [
       "<div>\n",
       "<style scoped>\n",
       "    .dataframe tbody tr th:only-of-type {\n",
       "        vertical-align: middle;\n",
       "    }\n",
       "\n",
       "    .dataframe tbody tr th {\n",
       "        vertical-align: top;\n",
       "    }\n",
       "\n",
       "    .dataframe thead th {\n",
       "        text-align: right;\n",
       "    }\n",
       "</style>\n",
       "<table border=\"1\" class=\"dataframe\">\n",
       "  <thead>\n",
       "    <tr style=\"text-align: right;\">\n",
       "      <th></th>\n",
       "      <th>login_year</th>\n",
       "      <th>login_day</th>\n",
       "      <th>user_id</th>\n",
       "    </tr>\n",
       "  </thead>\n",
       "  <tbody>\n",
       "    <tr>\n",
       "      <th>0</th>\n",
       "      <td>2021</td>\n",
       "      <td>01</td>\n",
       "      <td>682</td>\n",
       "    </tr>\n",
       "    <tr>\n",
       "      <th>1</th>\n",
       "      <td>2021</td>\n",
       "      <td>02</td>\n",
       "      <td>664</td>\n",
       "    </tr>\n",
       "    <tr>\n",
       "      <th>2</th>\n",
       "      <td>2021</td>\n",
       "      <td>03</td>\n",
       "      <td>674</td>\n",
       "    </tr>\n",
       "    <tr>\n",
       "      <th>3</th>\n",
       "      <td>2021</td>\n",
       "      <td>04</td>\n",
       "      <td>532</td>\n",
       "    </tr>\n",
       "    <tr>\n",
       "      <th>4</th>\n",
       "      <td>2021</td>\n",
       "      <td>05</td>\n",
       "      <td>765</td>\n",
       "    </tr>\n",
       "    <tr>\n",
       "      <th>5</th>\n",
       "      <td>2021</td>\n",
       "      <td>06</td>\n",
       "      <td>725</td>\n",
       "    </tr>\n",
       "    <tr>\n",
       "      <th>6</th>\n",
       "      <td>2021</td>\n",
       "      <td>07</td>\n",
       "      <td>786</td>\n",
       "    </tr>\n",
       "    <tr>\n",
       "      <th>7</th>\n",
       "      <td>2021</td>\n",
       "      <td>08</td>\n",
       "      <td>797</td>\n",
       "    </tr>\n",
       "    <tr>\n",
       "      <th>8</th>\n",
       "      <td>2021</td>\n",
       "      <td>09</td>\n",
       "      <td>783</td>\n",
       "    </tr>\n",
       "    <tr>\n",
       "      <th>9</th>\n",
       "      <td>2021</td>\n",
       "      <td>10</td>\n",
       "      <td>771</td>\n",
       "    </tr>\n",
       "    <tr>\n",
       "      <th>10</th>\n",
       "      <td>2021</td>\n",
       "      <td>11</td>\n",
       "      <td>604</td>\n",
       "    </tr>\n",
       "    <tr>\n",
       "      <th>11</th>\n",
       "      <td>2021</td>\n",
       "      <td>12</td>\n",
       "      <td>832</td>\n",
       "    </tr>\n",
       "    <tr>\n",
       "      <th>12</th>\n",
       "      <td>2021</td>\n",
       "      <td>13</td>\n",
       "      <td>841</td>\n",
       "    </tr>\n",
       "    <tr>\n",
       "      <th>13</th>\n",
       "      <td>2021</td>\n",
       "      <td>14</td>\n",
       "      <td>844</td>\n",
       "    </tr>\n",
       "    <tr>\n",
       "      <th>14</th>\n",
       "      <td>2021</td>\n",
       "      <td>15</td>\n",
       "      <td>832</td>\n",
       "    </tr>\n",
       "    <tr>\n",
       "      <th>15</th>\n",
       "      <td>2021</td>\n",
       "      <td>16</td>\n",
       "      <td>806</td>\n",
       "    </tr>\n",
       "    <tr>\n",
       "      <th>16</th>\n",
       "      <td>2021</td>\n",
       "      <td>17</td>\n",
       "      <td>792</td>\n",
       "    </tr>\n",
       "    <tr>\n",
       "      <th>17</th>\n",
       "      <td>2021</td>\n",
       "      <td>18</td>\n",
       "      <td>572</td>\n",
       "    </tr>\n",
       "    <tr>\n",
       "      <th>18</th>\n",
       "      <td>2021</td>\n",
       "      <td>19</td>\n",
       "      <td>820</td>\n",
       "    </tr>\n",
       "    <tr>\n",
       "      <th>19</th>\n",
       "      <td>2021</td>\n",
       "      <td>20</td>\n",
       "      <td>861</td>\n",
       "    </tr>\n",
       "    <tr>\n",
       "      <th>20</th>\n",
       "      <td>2021</td>\n",
       "      <td>21</td>\n",
       "      <td>819</td>\n",
       "    </tr>\n",
       "    <tr>\n",
       "      <th>21</th>\n",
       "      <td>2021</td>\n",
       "      <td>22</td>\n",
       "      <td>820</td>\n",
       "    </tr>\n",
       "    <tr>\n",
       "      <th>22</th>\n",
       "      <td>2021</td>\n",
       "      <td>23</td>\n",
       "      <td>793</td>\n",
       "    </tr>\n",
       "    <tr>\n",
       "      <th>23</th>\n",
       "      <td>2021</td>\n",
       "      <td>24</td>\n",
       "      <td>817</td>\n",
       "    </tr>\n",
       "    <tr>\n",
       "      <th>24</th>\n",
       "      <td>2021</td>\n",
       "      <td>25</td>\n",
       "      <td>585</td>\n",
       "    </tr>\n",
       "    <tr>\n",
       "      <th>25</th>\n",
       "      <td>2021</td>\n",
       "      <td>26</td>\n",
       "      <td>810</td>\n",
       "    </tr>\n",
       "    <tr>\n",
       "      <th>26</th>\n",
       "      <td>2021</td>\n",
       "      <td>27</td>\n",
       "      <td>845</td>\n",
       "    </tr>\n",
       "    <tr>\n",
       "      <th>27</th>\n",
       "      <td>2021</td>\n",
       "      <td>28</td>\n",
       "      <td>821</td>\n",
       "    </tr>\n",
       "    <tr>\n",
       "      <th>28</th>\n",
       "      <td>2021</td>\n",
       "      <td>29</td>\n",
       "      <td>829</td>\n",
       "    </tr>\n",
       "    <tr>\n",
       "      <th>29</th>\n",
       "      <td>2021</td>\n",
       "      <td>30</td>\n",
       "      <td>821</td>\n",
       "    </tr>\n",
       "  </tbody>\n",
       "</table>\n",
       "</div>"
      ],
      "text/plain": [
       "   login_year login_day  user_id\n",
       "0        2021        01      682\n",
       "1        2021        02      664\n",
       "2        2021        03      674\n",
       "3        2021        04      532\n",
       "4        2021        05      765\n",
       "5        2021        06      725\n",
       "6        2021        07      786\n",
       "7        2021        08      797\n",
       "8        2021        09      783\n",
       "9        2021        10      771\n",
       "10       2021        11      604\n",
       "11       2021        12      832\n",
       "12       2021        13      841\n",
       "13       2021        14      844\n",
       "14       2021        15      832\n",
       "15       2021        16      806\n",
       "16       2021        17      792\n",
       "17       2021        18      572\n",
       "18       2021        19      820\n",
       "19       2021        20      861\n",
       "20       2021        21      819\n",
       "21       2021        22      820\n",
       "22       2021        23      793\n",
       "23       2021        24      817\n",
       "24       2021        25      585\n",
       "25       2021        26      810\n",
       "26       2021        27      845\n",
       "27       2021        28      821\n",
       "28       2021        29      829\n",
       "29       2021        30      821"
      ]
     },
     "execution_count": 32,
     "metadata": {},
     "output_type": "execute_result"
    }
   ],
   "source": [
    "dau2021 = b[b['login_year']=='2021']\n",
    "daily_active_user_2021 =  dau2021.groupby(['login_year','login_day',]).agg({'user_id':pd.Series.nunique}).reset_index().head(31)\n",
    "daily_active_user_2021"
   ]
  },
  {
   "cell_type": "markdown",
   "id": "ac83a8ca",
   "metadata": {
    "papermill": {
     "duration": 0.026257,
     "end_time": "2022-10-13T08:40:20.164403",
     "exception": false,
     "start_time": "2022-10-13T08:40:20.138146",
     "status": "completed"
    },
    "tags": []
   },
   "source": [
    "\n",
    "### Daily Active User (DAU) 2022\n",
    "\n",
    "\n",
    "Knowing how many people have used your app in one day in the month July 2022\n",
    "\n",
    "\n",
    "\n"
   ]
  },
  {
   "cell_type": "code",
   "execution_count": 33,
   "id": "e4551292",
   "metadata": {
    "execution": {
     "iopub.execute_input": "2022-10-13T08:40:20.218899Z",
     "iopub.status.busy": "2022-10-13T08:40:20.218498Z",
     "iopub.status.idle": "2022-10-13T08:40:21.291528Z",
     "shell.execute_reply": "2022-10-13T08:40:21.290188Z"
    },
    "papermill": {
     "duration": 1.103266,
     "end_time": "2022-10-13T08:40:21.294011",
     "exception": false,
     "start_time": "2022-10-13T08:40:20.190745",
     "status": "completed"
    },
    "tags": []
   },
   "outputs": [
    {
     "data": {
      "text/html": [
       "<div>\n",
       "<style scoped>\n",
       "    .dataframe tbody tr th:only-of-type {\n",
       "        vertical-align: middle;\n",
       "    }\n",
       "\n",
       "    .dataframe tbody tr th {\n",
       "        vertical-align: top;\n",
       "    }\n",
       "\n",
       "    .dataframe thead th {\n",
       "        text-align: right;\n",
       "    }\n",
       "</style>\n",
       "<table border=\"1\" class=\"dataframe\">\n",
       "  <thead>\n",
       "    <tr style=\"text-align: right;\">\n",
       "      <th></th>\n",
       "      <th>login_year</th>\n",
       "      <th>login_day</th>\n",
       "      <th>user_id</th>\n",
       "    </tr>\n",
       "  </thead>\n",
       "  <tbody>\n",
       "    <tr>\n",
       "      <th>0</th>\n",
       "      <td>2022</td>\n",
       "      <td>01</td>\n",
       "      <td>983</td>\n",
       "    </tr>\n",
       "    <tr>\n",
       "      <th>1</th>\n",
       "      <td>2022</td>\n",
       "      <td>02</td>\n",
       "      <td>1066</td>\n",
       "    </tr>\n",
       "    <tr>\n",
       "      <th>2</th>\n",
       "      <td>2022</td>\n",
       "      <td>03</td>\n",
       "      <td>931</td>\n",
       "    </tr>\n",
       "    <tr>\n",
       "      <th>3</th>\n",
       "      <td>2022</td>\n",
       "      <td>04</td>\n",
       "      <td>1272</td>\n",
       "    </tr>\n",
       "    <tr>\n",
       "      <th>4</th>\n",
       "      <td>2022</td>\n",
       "      <td>05</td>\n",
       "      <td>1264</td>\n",
       "    </tr>\n",
       "    <tr>\n",
       "      <th>5</th>\n",
       "      <td>2022</td>\n",
       "      <td>06</td>\n",
       "      <td>1111</td>\n",
       "    </tr>\n",
       "    <tr>\n",
       "      <th>6</th>\n",
       "      <td>2022</td>\n",
       "      <td>07</td>\n",
       "      <td>1254</td>\n",
       "    </tr>\n",
       "    <tr>\n",
       "      <th>7</th>\n",
       "      <td>2022</td>\n",
       "      <td>08</td>\n",
       "      <td>1225</td>\n",
       "    </tr>\n",
       "    <tr>\n",
       "      <th>8</th>\n",
       "      <td>2022</td>\n",
       "      <td>09</td>\n",
       "      <td>1170</td>\n",
       "    </tr>\n",
       "    <tr>\n",
       "      <th>9</th>\n",
       "      <td>2022</td>\n",
       "      <td>10</td>\n",
       "      <td>815</td>\n",
       "    </tr>\n",
       "    <tr>\n",
       "      <th>10</th>\n",
       "      <td>2022</td>\n",
       "      <td>11</td>\n",
       "      <td>1175</td>\n",
       "    </tr>\n",
       "    <tr>\n",
       "      <th>11</th>\n",
       "      <td>2022</td>\n",
       "      <td>12</td>\n",
       "      <td>1188</td>\n",
       "    </tr>\n",
       "    <tr>\n",
       "      <th>12</th>\n",
       "      <td>2022</td>\n",
       "      <td>13</td>\n",
       "      <td>1285</td>\n",
       "    </tr>\n",
       "    <tr>\n",
       "      <th>13</th>\n",
       "      <td>2022</td>\n",
       "      <td>14</td>\n",
       "      <td>1213</td>\n",
       "    </tr>\n",
       "    <tr>\n",
       "      <th>14</th>\n",
       "      <td>2022</td>\n",
       "      <td>15</td>\n",
       "      <td>1309</td>\n",
       "    </tr>\n",
       "    <tr>\n",
       "      <th>15</th>\n",
       "      <td>2022</td>\n",
       "      <td>16</td>\n",
       "      <td>1189</td>\n",
       "    </tr>\n",
       "    <tr>\n",
       "      <th>16</th>\n",
       "      <td>2022</td>\n",
       "      <td>17</td>\n",
       "      <td>1011</td>\n",
       "    </tr>\n",
       "    <tr>\n",
       "      <th>17</th>\n",
       "      <td>2022</td>\n",
       "      <td>18</td>\n",
       "      <td>1331</td>\n",
       "    </tr>\n",
       "    <tr>\n",
       "      <th>18</th>\n",
       "      <td>2022</td>\n",
       "      <td>19</td>\n",
       "      <td>1311</td>\n",
       "    </tr>\n",
       "    <tr>\n",
       "      <th>19</th>\n",
       "      <td>2022</td>\n",
       "      <td>20</td>\n",
       "      <td>1277</td>\n",
       "    </tr>\n",
       "    <tr>\n",
       "      <th>20</th>\n",
       "      <td>2022</td>\n",
       "      <td>21</td>\n",
       "      <td>1280</td>\n",
       "    </tr>\n",
       "    <tr>\n",
       "      <th>21</th>\n",
       "      <td>2022</td>\n",
       "      <td>22</td>\n",
       "      <td>1322</td>\n",
       "    </tr>\n",
       "    <tr>\n",
       "      <th>22</th>\n",
       "      <td>2022</td>\n",
       "      <td>23</td>\n",
       "      <td>1180</td>\n",
       "    </tr>\n",
       "    <tr>\n",
       "      <th>23</th>\n",
       "      <td>2022</td>\n",
       "      <td>24</td>\n",
       "      <td>858</td>\n",
       "    </tr>\n",
       "    <tr>\n",
       "      <th>24</th>\n",
       "      <td>2022</td>\n",
       "      <td>25</td>\n",
       "      <td>1276</td>\n",
       "    </tr>\n",
       "    <tr>\n",
       "      <th>25</th>\n",
       "      <td>2022</td>\n",
       "      <td>26</td>\n",
       "      <td>1134</td>\n",
       "    </tr>\n",
       "    <tr>\n",
       "      <th>26</th>\n",
       "      <td>2022</td>\n",
       "      <td>27</td>\n",
       "      <td>1233</td>\n",
       "    </tr>\n",
       "    <tr>\n",
       "      <th>27</th>\n",
       "      <td>2022</td>\n",
       "      <td>28</td>\n",
       "      <td>1194</td>\n",
       "    </tr>\n",
       "    <tr>\n",
       "      <th>28</th>\n",
       "      <td>2022</td>\n",
       "      <td>29</td>\n",
       "      <td>1121</td>\n",
       "    </tr>\n",
       "    <tr>\n",
       "      <th>29</th>\n",
       "      <td>2022</td>\n",
       "      <td>30</td>\n",
       "      <td>1158</td>\n",
       "    </tr>\n",
       "  </tbody>\n",
       "</table>\n",
       "</div>"
      ],
      "text/plain": [
       "   login_year login_day  user_id\n",
       "0        2022        01      983\n",
       "1        2022        02     1066\n",
       "2        2022        03      931\n",
       "3        2022        04     1272\n",
       "4        2022        05     1264\n",
       "5        2022        06     1111\n",
       "6        2022        07     1254\n",
       "7        2022        08     1225\n",
       "8        2022        09     1170\n",
       "9        2022        10      815\n",
       "10       2022        11     1175\n",
       "11       2022        12     1188\n",
       "12       2022        13     1285\n",
       "13       2022        14     1213\n",
       "14       2022        15     1309\n",
       "15       2022        16     1189\n",
       "16       2022        17     1011\n",
       "17       2022        18     1331\n",
       "18       2022        19     1311\n",
       "19       2022        20     1277\n",
       "20       2022        21     1280\n",
       "21       2022        22     1322\n",
       "22       2022        23     1180\n",
       "23       2022        24      858\n",
       "24       2022        25     1276\n",
       "25       2022        26     1134\n",
       "26       2022        27     1233\n",
       "27       2022        28     1194\n",
       "28       2022        29     1121\n",
       "29       2022        30     1158"
      ]
     },
     "execution_count": 33,
     "metadata": {},
     "output_type": "execute_result"
    }
   ],
   "source": [
    "dau2022 = b[b['login_year']=='2022']\n",
    "daily_active_user_2022 =  dau2022.groupby(['login_year','login_day',]).agg({'user_id':pd.Series.nunique}).reset_index().head(31)\n",
    "daily_active_user_2022"
   ]
  },
  {
   "cell_type": "code",
   "execution_count": 34,
   "id": "873c4a62",
   "metadata": {
    "execution": {
     "iopub.execute_input": "2022-10-13T08:40:21.350253Z",
     "iopub.status.busy": "2022-10-13T08:40:21.349863Z",
     "iopub.status.idle": "2022-10-13T08:40:21.648805Z",
     "shell.execute_reply": "2022-10-13T08:40:21.647495Z"
    },
    "papermill": {
     "duration": 0.33094,
     "end_time": "2022-10-13T08:40:21.651711",
     "exception": false,
     "start_time": "2022-10-13T08:40:21.320771",
     "status": "completed"
    },
    "tags": []
   },
   "outputs": [
    {
     "data": {
      "image/png": "[encoded data removed]",
      "text/plain": [
       "<Figure size 900x600 with 1 Axes>"
      ]
     },
     "metadata": {},
     "output_type": "display_data"
    }
   ],
   "source": [
    "plt.rcdefaults()\n",
    "df_dau21 = daily_active_user_2021\n",
    "df_dau22 = daily_active_user_2022\n",
    "\n",
    "plt.figure(figsize=(9,6))\n",
    "plt.plot(df_dau21.login_day,df_dau21.user_id, 'g.-', label='2021')\n",
    "plt.plot(df_dau22.login_day,df_dau22.user_id, 'r.-', label='2022')\n",
    "plt.title('Daily Active Users VS Date Of Month',y=1.05, fontdict={'fontweight':'bold', 'fontsize': 16})\n",
    "plt.xlabel('Daily Active Users',fontsize=13,labelpad = 15)\n",
    "plt.ylabel('Date Of Month',fontsize=13,labelpad = 15)\n",
    "plt.legend()\n",
    "plt.show()"
   ]
  },
  {
   "cell_type": "markdown",
   "id": "14d08e35",
   "metadata": {
    "papermill": {
     "duration": 0.028506,
     "end_time": "2022-10-13T08:40:21.708897",
     "exception": false,
     "start_time": "2022-10-13T08:40:21.680391",
     "status": "completed"
    },
    "tags": []
   },
   "source": [
    "> ***visualization of Line Graph of Daily Active Users in 2021 & 2022***"
   ]
  },
  {
   "cell_type": "markdown",
   "id": "3d4fca59",
   "metadata": {
    "papermill": {
     "duration": 0.027996,
     "end_time": "2022-10-13T08:40:21.765459",
     "exception": false,
     "start_time": "2022-10-13T08:40:21.737463",
     "status": "completed"
    },
    "tags": []
   },
   "source": [
    "##### \n",
    "\n",
    "\n",
    "\n",
    "\n",
    "### <span style=\"color:#0000ff\"> Q2.)  What are our top-selling products in each of the two years? draw some insight from this?"
   ]
  },
  {
   "cell_type": "markdown",
   "id": "36327271",
   "metadata": {
    "papermill": {
     "duration": 0.027914,
     "end_time": "2022-10-13T08:40:21.822732",
     "exception": false,
     "start_time": "2022-10-13T08:40:21.794818",
     "status": "completed"
    },
    "tags": []
   },
   "source": [
    "#### Top Selling Products in 2021"
   ]
  },
  {
   "cell_type": "code",
   "execution_count": 35,
   "id": "71e65919",
   "metadata": {
    "execution": {
     "iopub.execute_input": "2022-10-13T08:40:21.881939Z",
     "iopub.status.busy": "2022-10-13T08:40:21.880736Z",
     "iopub.status.idle": "2022-10-13T08:40:22.513103Z",
     "shell.execute_reply": "2022-10-13T08:40:22.511949Z"
    },
    "papermill": {
     "duration": 0.665023,
     "end_time": "2022-10-13T08:40:22.515965",
     "exception": false,
     "start_time": "2022-10-13T08:40:21.850942",
     "status": "completed"
    },
    "tags": []
   },
   "outputs": [
    {
     "data": {
      "text/html": [
       "<div>\n",
       "<style scoped>\n",
       "    .dataframe tbody tr th:only-of-type {\n",
       "        vertical-align: middle;\n",
       "    }\n",
       "\n",
       "    .dataframe tbody tr th {\n",
       "        vertical-align: top;\n",
       "    }\n",
       "\n",
       "    .dataframe thead th {\n",
       "        text-align: right;\n",
       "    }\n",
       "</style>\n",
       "<table border=\"1\" class=\"dataframe\">\n",
       "  <thead>\n",
       "    <tr style=\"text-align: right;\">\n",
       "      <th></th>\n",
       "      <th>fk_product_id</th>\n",
       "      <th>order_quantity_accepted</th>\n",
       "    </tr>\n",
       "  </thead>\n",
       "  <tbody>\n",
       "    <tr>\n",
       "      <th>0</th>\n",
       "      <td>10235</td>\n",
       "      <td>135218</td>\n",
       "    </tr>\n",
       "    <tr>\n",
       "      <th>1</th>\n",
       "      <td>8219</td>\n",
       "      <td>105451</td>\n",
       "    </tr>\n",
       "    <tr>\n",
       "      <th>2</th>\n",
       "      <td>8428</td>\n",
       "      <td>69411</td>\n",
       "    </tr>\n",
       "    <tr>\n",
       "      <th>3</th>\n",
       "      <td>9925</td>\n",
       "      <td>66919</td>\n",
       "    </tr>\n",
       "    <tr>\n",
       "      <th>4</th>\n",
       "      <td>1040</td>\n",
       "      <td>61431</td>\n",
       "    </tr>\n",
       "  </tbody>\n",
       "</table>\n",
       "</div>"
      ],
      "text/plain": [
       "   fk_product_id  order_quantity_accepted\n",
       "0          10235                   135218\n",
       "1           8219                   105451\n",
       "2           8428                    69411\n",
       "3           9925                    66919\n",
       "4           1040                    61431"
      ]
     },
     "execution_count": 35,
     "metadata": {},
     "output_type": "execute_result"
    }
   ],
   "source": [
    "tsp2021 = b[b['creation_year']== '2021']\n",
    "top_selling_products_2021 = tsp2021.groupby(['fk_product_id'])['order_quantity_accepted'].sum().reset_index()\n",
    "top_selling_products_2021=top_selling_products_2021.sort_values(by=['order_quantity_accepted'], ascending=False).reset_index()\n",
    "top_selling_products_2021 = top_selling_products_2021.drop(['index'],axis= 1).head(5)\n",
    "top_selling_products_2021"
   ]
  },
  {
   "cell_type": "code",
   "execution_count": 36,
   "id": "39e732aa",
   "metadata": {
    "execution": {
     "iopub.execute_input": "2022-10-13T08:40:22.578652Z",
     "iopub.status.busy": "2022-10-13T08:40:22.577805Z",
     "iopub.status.idle": "2022-10-13T08:40:22.774264Z",
     "shell.execute_reply": "2022-10-13T08:40:22.773288Z"
    },
    "papermill": {
     "duration": 0.231415,
     "end_time": "2022-10-13T08:40:22.777026",
     "exception": false,
     "start_time": "2022-10-13T08:40:22.545611",
     "status": "completed"
    },
    "tags": []
   },
   "outputs": [
    {
     "data": {
      "image/png": "[encoded data removed]",
      "text/plain": [
       "<Figure size 600x400 with 1 Axes>"
      ]
     },
     "metadata": {},
     "output_type": "display_data"
    }
   ],
   "source": [
    "df_tsp21 = top_selling_products_2021\n",
    "plt.rcParams[\"figure.figsize\"] = (6,4)\n",
    "bargraph = df_tsp21.plot.bar(x = 'fk_product_id', y='order_quantity_accepted',width = 0.4, legend=1,color = '#DC143C')\n",
    "bargraph.set_facecolor(\"#04D8B2\")\n",
    "plt.xlabel(\"product id\",fontsize=13,labelpad = 15)\n",
    "plt.ylabel(\"order quantity\",fontsize=13,labelpad = 15)\n",
    "plt.title(\"Top Selling Products 2021\",y=1.05,fontsize=16,weight='bold')\n",
    "bargraph.bar_label(bargraph.containers[0],padding = 5)\n",
    "plt.ylim(0,159218)\n",
    "plt.grid(False)\n",
    "plt.xticks(rotation=1)\n",
    "plt.show()"
   ]
  },
  {
   "cell_type": "markdown",
   "id": "afadc4a4",
   "metadata": {
    "papermill": {
     "duration": 0.029188,
     "end_time": "2022-10-13T08:40:22.835971",
     "exception": false,
     "start_time": "2022-10-13T08:40:22.806783",
     "status": "completed"
    },
    "tags": []
   },
   "source": [
    ">  ***visualization of bar chart of top selling products in 2021***"
   ]
  },
  {
   "cell_type": "markdown",
   "id": "986f0d19",
   "metadata": {
    "papermill": {
     "duration": 0.029009,
     "end_time": "2022-10-13T08:40:22.894143",
     "exception": false,
     "start_time": "2022-10-13T08:40:22.865134",
     "status": "completed"
    },
    "tags": []
   },
   "source": [
    "\n",
    "\n",
    "\n",
    "#### Top Selling Products in 2022"
   ]
  },
  {
   "cell_type": "code",
   "execution_count": 37,
   "id": "edfe689d",
   "metadata": {
    "execution": {
     "iopub.execute_input": "2022-10-13T08:40:22.954705Z",
     "iopub.status.busy": "2022-10-13T08:40:22.954277Z",
     "iopub.status.idle": "2022-10-13T08:40:23.608826Z",
     "shell.execute_reply": "2022-10-13T08:40:23.607460Z"
    },
    "papermill": {
     "duration": 0.687426,
     "end_time": "2022-10-13T08:40:23.611397",
     "exception": false,
     "start_time": "2022-10-13T08:40:22.923971",
     "status": "completed"
    },
    "tags": []
   },
   "outputs": [
    {
     "data": {
      "text/html": [
       "<div>\n",
       "<style scoped>\n",
       "    .dataframe tbody tr th:only-of-type {\n",
       "        vertical-align: middle;\n",
       "    }\n",
       "\n",
       "    .dataframe tbody tr th {\n",
       "        vertical-align: top;\n",
       "    }\n",
       "\n",
       "    .dataframe thead th {\n",
       "        text-align: right;\n",
       "    }\n",
       "</style>\n",
       "<table border=\"1\" class=\"dataframe\">\n",
       "  <thead>\n",
       "    <tr style=\"text-align: right;\">\n",
       "      <th></th>\n",
       "      <th>fk_product_id</th>\n",
       "      <th>order_quantity_accepted</th>\n",
       "    </tr>\n",
       "  </thead>\n",
       "  <tbody>\n",
       "    <tr>\n",
       "      <th>0</th>\n",
       "      <td>8444</td>\n",
       "      <td>209539</td>\n",
       "    </tr>\n",
       "    <tr>\n",
       "      <th>1</th>\n",
       "      <td>12749</td>\n",
       "      <td>129855</td>\n",
       "    </tr>\n",
       "    <tr>\n",
       "      <th>2</th>\n",
       "      <td>12652</td>\n",
       "      <td>128612</td>\n",
       "    </tr>\n",
       "    <tr>\n",
       "      <th>3</th>\n",
       "      <td>8428</td>\n",
       "      <td>116089</td>\n",
       "    </tr>\n",
       "    <tr>\n",
       "      <th>4</th>\n",
       "      <td>8219</td>\n",
       "      <td>111508</td>\n",
       "    </tr>\n",
       "  </tbody>\n",
       "</table>\n",
       "</div>"
      ],
      "text/plain": [
       "   fk_product_id  order_quantity_accepted\n",
       "0           8444                   209539\n",
       "1          12749                   129855\n",
       "2          12652                   128612\n",
       "3           8428                   116089\n",
       "4           8219                   111508"
      ]
     },
     "execution_count": 37,
     "metadata": {},
     "output_type": "execute_result"
    }
   ],
   "source": [
    "tsp2022 = b[b['creation_year']== '2022']\n",
    "top_selling_products_2022 = tsp2022.groupby(['fk_product_id'])['order_quantity_accepted'].sum().reset_index()\n",
    "top_selling_products_2022=top_selling_products_2022.sort_values(by=['order_quantity_accepted'], ascending=False).reset_index()\n",
    "top_selling_products_2022=top_selling_products_2022.drop(['index'],axis= 1).head(5)\n",
    "top_selling_products_2022"
   ]
  },
  {
   "cell_type": "code",
   "execution_count": 38,
   "id": "28ba590f",
   "metadata": {
    "execution": {
     "iopub.execute_input": "2022-10-13T08:40:23.672118Z",
     "iopub.status.busy": "2022-10-13T08:40:23.671069Z",
     "iopub.status.idle": "2022-10-13T08:40:23.851715Z",
     "shell.execute_reply": "2022-10-13T08:40:23.850780Z"
    },
    "papermill": {
     "duration": 0.213575,
     "end_time": "2022-10-13T08:40:23.854164",
     "exception": false,
     "start_time": "2022-10-13T08:40:23.640589",
     "status": "completed"
    },
    "tags": []
   },
   "outputs": [
    {
     "data": {
      "image/png": "[encoded data removed]",
      "text/plain": [
       "<Figure size 600x400 with 1 Axes>"
      ]
     },
     "metadata": {},
     "output_type": "display_data"
    }
   ],
   "source": [
    "df_tsp22 = top_selling_products_2022\n",
    "plt.rcParams[\"figure.figsize\"] = (6,4)\n",
    "bargraph = df_tsp22.plot.bar(x = 'fk_product_id', y='order_quantity_accepted',width = 0.4, legend=1,color = '#DC143C')\n",
    "bargraph.set_facecolor(\"#04D8B2\")\n",
    "plt.grid(False)\n",
    "plt.xlabel(\"product id\",fontsize=13,labelpad = 15)\n",
    "plt.ylabel(\"order quantity\",fontsize=13,labelpad = 15)\n",
    "plt.title(\"Top Selling Products 2022\",y=1.05,fontsize=16,weight='bold')\n",
    "bargraph.bar_label(bargraph.containers[0],padding = 5)\n",
    "plt.ylim(0,239999)\n",
    "plt.xticks(rotation=1)\n",
    "plt.show()"
   ]
  },
  {
   "cell_type": "markdown",
   "id": "df66f1c9",
   "metadata": {
    "papermill": {
     "duration": 0.029662,
     "end_time": "2022-10-13T08:40:23.914515",
     "exception": false,
     "start_time": "2022-10-13T08:40:23.884853",
     "status": "completed"
    },
    "tags": []
   },
   "source": [
    ">  ***visualization of bar chart of top selling products in 2022***"
   ]
  },
  {
   "cell_type": "markdown",
   "id": "b4340ffe",
   "metadata": {
    "papermill": {
     "duration": 0.030407,
     "end_time": "2022-10-13T08:40:23.975820",
     "exception": false,
     "start_time": "2022-10-13T08:40:23.945413",
     "status": "completed"
    },
    "tags": []
   },
   "source": [
    "### <span style=\"color:#0000ff\"> Q3.) What are our Top Revenue Genrated Products of 2021 & 2022? \n",
    "    \n",
    "    \n"
   ]
  },
  {
   "cell_type": "markdown",
   "id": "77138813",
   "metadata": {
    "papermill": {
     "duration": 0.030361,
     "end_time": "2022-10-13T08:40:24.037167",
     "exception": false,
     "start_time": "2022-10-13T08:40:24.006806",
     "status": "completed"
    },
    "tags": []
   },
   "source": [
    "#### Top Revenue generated Products of 2021"
   ]
  },
  {
   "cell_type": "code",
   "execution_count": 39,
   "id": "9e1698a0",
   "metadata": {
    "execution": {
     "iopub.execute_input": "2022-10-13T08:40:24.099254Z",
     "iopub.status.busy": "2022-10-13T08:40:24.098841Z",
     "iopub.status.idle": "2022-10-13T08:40:24.122755Z",
     "shell.execute_reply": "2022-10-13T08:40:24.121653Z"
    },
    "papermill": {
     "duration": 0.058339,
     "end_time": "2022-10-13T08:40:24.125462",
     "exception": false,
     "start_time": "2022-10-13T08:40:24.067123",
     "status": "completed"
    },
    "tags": []
   },
   "outputs": [],
   "source": [
    "b['total_product_cost'] = b['order_quantity_accepted']*b['rate']"
   ]
  },
  {
   "cell_type": "code",
   "execution_count": 40,
   "id": "8237afd0",
   "metadata": {
    "execution": {
     "iopub.execute_input": "2022-10-13T08:40:24.187119Z",
     "iopub.status.busy": "2022-10-13T08:40:24.186659Z",
     "iopub.status.idle": "2022-10-13T08:40:24.858500Z",
     "shell.execute_reply": "2022-10-13T08:40:24.857289Z"
    },
    "papermill": {
     "duration": 0.705524,
     "end_time": "2022-10-13T08:40:24.861003",
     "exception": false,
     "start_time": "2022-10-13T08:40:24.155479",
     "status": "completed"
    },
    "tags": []
   },
   "outputs": [
    {
     "data": {
      "text/html": [
       "<div>\n",
       "<style scoped>\n",
       "    .dataframe tbody tr th:only-of-type {\n",
       "        vertical-align: middle;\n",
       "    }\n",
       "\n",
       "    .dataframe tbody tr th {\n",
       "        vertical-align: top;\n",
       "    }\n",
       "\n",
       "    .dataframe thead th {\n",
       "        text-align: right;\n",
       "    }\n",
       "</style>\n",
       "<table border=\"1\" class=\"dataframe\">\n",
       "  <thead>\n",
       "    <tr style=\"text-align: right;\">\n",
       "      <th></th>\n",
       "      <th>fk_product_id</th>\n",
       "      <th>total_product_cost</th>\n",
       "    </tr>\n",
       "  </thead>\n",
       "  <tbody>\n",
       "    <tr>\n",
       "      <th>184</th>\n",
       "      <td>8219</td>\n",
       "      <td>1405553620.500</td>\n",
       "    </tr>\n",
       "    <tr>\n",
       "      <th>180</th>\n",
       "      <td>8210</td>\n",
       "      <td>558193512.000</td>\n",
       "    </tr>\n",
       "    <tr>\n",
       "      <th>103</th>\n",
       "      <td>7640</td>\n",
       "      <td>427209937.600</td>\n",
       "    </tr>\n",
       "    <tr>\n",
       "      <th>384</th>\n",
       "      <td>10975</td>\n",
       "      <td>425228092.960</td>\n",
       "    </tr>\n",
       "    <tr>\n",
       "      <th>40</th>\n",
       "      <td>3610</td>\n",
       "      <td>289119038.000</td>\n",
       "    </tr>\n",
       "  </tbody>\n",
       "</table>\n",
       "</div>"
      ],
      "text/plain": [
       "     fk_product_id  total_product_cost\n",
       "184           8219      1405553620.500\n",
       "180           8210       558193512.000\n",
       "103           7640       427209937.600\n",
       "384          10975       425228092.960\n",
       "40            3610       289119038.000"
      ]
     },
     "execution_count": 40,
     "metadata": {},
     "output_type": "execute_result"
    }
   ],
   "source": [
    "b2021 = b[b['creation_year']== '2021'] \n",
    "tp2021 = b2021.groupby(['fk_product_id'])['total_product_cost'].sum().reset_index()  \n",
    "top_rev_gen_pro_2021 = tp2021.sort_values(by=['total_product_cost'], ascending=False).head(5)\n",
    "top_rev_gen_pro_2021"
   ]
  },
  {
   "cell_type": "code",
   "execution_count": 41,
   "id": "76df9e83",
   "metadata": {
    "execution": {
     "iopub.execute_input": "2022-10-13T08:40:24.923560Z",
     "iopub.status.busy": "2022-10-13T08:40:24.923100Z",
     "iopub.status.idle": "2022-10-13T08:40:25.130568Z",
     "shell.execute_reply": "2022-10-13T08:40:25.129700Z"
    },
    "papermill": {
     "duration": 0.241312,
     "end_time": "2022-10-13T08:40:25.132790",
     "exception": false,
     "start_time": "2022-10-13T08:40:24.891478",
     "status": "completed"
    },
    "tags": []
   },
   "outputs": [
    {
     "data": {
      "image/png": "[encoded data removed]",
      "text/plain": [
       "<Figure size 700x400 with 1 Axes>"
      ]
     },
     "metadata": {},
     "output_type": "display_data"
    }
   ],
   "source": [
    "df_trgp21 = top_rev_gen_pro_2021\n",
    "plt.rcParams[\"figure.figsize\"] = (7,4)\n",
    "bargraph = df_trgp21.plot.bar(x = 'fk_product_id', y='total_product_cost',color = '#000080',width = 0.4, legend=1)\n",
    "bargraph.set_facecolor(\"#FC5A50\")\n",
    "plt.grid(False)\n",
    "plt.xlabel(\"Product ID\",fontsize=13,labelpad = 15)\n",
    "plt.ylabel(\"Product Cost\",fontsize=13,labelpad = 15)\n",
    "plt.title(\"Top Revenue Generated Products of 2021\",y=1.05,fontsize=15,weight='bold')\n",
    "bargraph.bar_label(bargraph.containers[0],padding = 10, fmt = '%d')\n",
    "plt.gcf().axes[0].yaxis.get_major_formatter().set_scientific(False)\n",
    "plt.ylim(0,1599301234.000)\n",
    "plt.xticks(rotation=1)\n",
    "plt.show()"
   ]
  },
  {
   "cell_type": "markdown",
   "id": "bd676abf",
   "metadata": {
    "papermill": {
     "duration": 0.031859,
     "end_time": "2022-10-13T08:40:25.196078",
     "exception": false,
     "start_time": "2022-10-13T08:40:25.164219",
     "status": "completed"
    },
    "tags": []
   },
   "source": [
    ">  ***visualization bar chart of Top Revenue generated Products of  2021***"
   ]
  },
  {
   "cell_type": "markdown",
   "id": "76466259",
   "metadata": {
    "papermill": {
     "duration": 0.031169,
     "end_time": "2022-10-13T08:40:25.258782",
     "exception": false,
     "start_time": "2022-10-13T08:40:25.227613",
     "status": "completed"
    },
    "tags": []
   },
   "source": [
    "\n",
    "\n",
    "#### Top Revenue generated Products of 2022"
   ]
  },
  {
   "cell_type": "code",
   "execution_count": 42,
   "id": "5ded960c",
   "metadata": {
    "execution": {
     "iopub.execute_input": "2022-10-13T08:40:25.324904Z",
     "iopub.status.busy": "2022-10-13T08:40:25.323656Z",
     "iopub.status.idle": "2022-10-13T08:40:25.972847Z",
     "shell.execute_reply": "2022-10-13T08:40:25.971622Z"
    },
    "papermill": {
     "duration": 0.684858,
     "end_time": "2022-10-13T08:40:25.975278",
     "exception": false,
     "start_time": "2022-10-13T08:40:25.290420",
     "status": "completed"
    },
    "tags": []
   },
   "outputs": [
    {
     "data": {
      "text/html": [
       "<div>\n",
       "<style scoped>\n",
       "    .dataframe tbody tr th:only-of-type {\n",
       "        vertical-align: middle;\n",
       "    }\n",
       "\n",
       "    .dataframe tbody tr th {\n",
       "        vertical-align: top;\n",
       "    }\n",
       "\n",
       "    .dataframe thead th {\n",
       "        text-align: right;\n",
       "    }\n",
       "</style>\n",
       "<table border=\"1\" class=\"dataframe\">\n",
       "  <thead>\n",
       "    <tr style=\"text-align: right;\">\n",
       "      <th></th>\n",
       "      <th>fk_product_id</th>\n",
       "      <th>total_product_cost</th>\n",
       "    </tr>\n",
       "  </thead>\n",
       "  <tbody>\n",
       "    <tr>\n",
       "      <th>111</th>\n",
       "      <td>8219</td>\n",
       "      <td>1595301234.000</td>\n",
       "    </tr>\n",
       "    <tr>\n",
       "      <th>178</th>\n",
       "      <td>8444</td>\n",
       "      <td>1312271132.000</td>\n",
       "    </tr>\n",
       "    <tr>\n",
       "      <th>73</th>\n",
       "      <td>7640</td>\n",
       "      <td>1159594897.000</td>\n",
       "    </tr>\n",
       "    <tr>\n",
       "      <th>348</th>\n",
       "      <td>12652</td>\n",
       "      <td>989376726.000</td>\n",
       "    </tr>\n",
       "    <tr>\n",
       "      <th>25</th>\n",
       "      <td>3610</td>\n",
       "      <td>878566510.000</td>\n",
       "    </tr>\n",
       "  </tbody>\n",
       "</table>\n",
       "</div>"
      ],
      "text/plain": [
       "     fk_product_id  total_product_cost\n",
       "111           8219      1595301234.000\n",
       "178           8444      1312271132.000\n",
       "73            7640      1159594897.000\n",
       "348          12652       989376726.000\n",
       "25            3610       878566510.000"
      ]
     },
     "execution_count": 42,
     "metadata": {},
     "output_type": "execute_result"
    }
   ],
   "source": [
    "b2022 = b[b['creation_year']== '2022'] \n",
    "tp2022 = b2022.groupby(['fk_product_id'])['total_product_cost'].sum().reset_index()  \n",
    "top_rev_gen_pro_2022 = tp2022.sort_values(by=['total_product_cost'], ascending=False).head(5)\n",
    "top_rev_gen_pro_2022"
   ]
  },
  {
   "cell_type": "code",
   "execution_count": 43,
   "id": "ebed1cef",
   "metadata": {
    "execution": {
     "iopub.execute_input": "2022-10-13T08:40:26.040874Z",
     "iopub.status.busy": "2022-10-13T08:40:26.040459Z",
     "iopub.status.idle": "2022-10-13T08:40:26.260106Z",
     "shell.execute_reply": "2022-10-13T08:40:26.258877Z"
    },
    "papermill": {
     "duration": 0.255123,
     "end_time": "2022-10-13T08:40:26.262682",
     "exception": false,
     "start_time": "2022-10-13T08:40:26.007559",
     "status": "completed"
    },
    "tags": []
   },
   "outputs": [
    {
     "data": {
      "image/png": "[encoded data removed]",
      "text/plain": [
       "<Figure size 700x500 with 1 Axes>"
      ]
     },
     "metadata": {},
     "output_type": "display_data"
    }
   ],
   "source": [
    "df_trgp22 = top_rev_gen_pro_2022\n",
    "plt.rcParams[\"figure.figsize\"] = (7,5)\n",
    "bargraph = df_trgp22.plot.bar(x = 'fk_product_id', y='total_product_cost',color = '#000080',width = 0.4, legend=1)\n",
    "bargraph.set_facecolor(\"#FC5A50\")\n",
    "plt.grid(False)\n",
    "plt.xlabel(\"Product ID\",fontsize=13,labelpad = 15)\n",
    "plt.ylabel(\"Product Cost\",fontsize=13,labelpad = 15)\n",
    "plt.title(\"Top Revenue Generated Products of 2022\",y=1.05,fontsize=15,weight='bold')\n",
    "bargraph.bar_label(bargraph.containers[0],padding = 10, fmt = '%d')\n",
    "plt.gcf().axes[0].yaxis.get_major_formatter().set_scientific(False)\n",
    "plt.ylim(0,1799301234.000)\n",
    "plt.xticks(rotation=1)\n",
    "plt.show()"
   ]
  },
  {
   "cell_type": "markdown",
   "id": "a100144b",
   "metadata": {
    "papermill": {
     "duration": 0.032024,
     "end_time": "2022-10-13T08:40:26.327038",
     "exception": false,
     "start_time": "2022-10-13T08:40:26.295014",
     "status": "completed"
    },
    "tags": []
   },
   "source": [
    ">  ***visualization of bar chart of Top Revenue Generated Products of  2022***"
   ]
  },
  {
   "cell_type": "markdown",
   "id": "ea7e1946",
   "metadata": {
    "papermill": {
     "duration": 0.032531,
     "end_time": "2022-10-13T08:40:26.391815",
     "exception": false,
     "start_time": "2022-10-13T08:40:26.359284",
     "status": "completed"
    },
    "tags": []
   },
   "source": [
    "\n",
    "\n",
    "#### Fourth KPI is :-\n",
    "## <span style=\"color:#ff0000\">  4)  Revenue Generated  (KPI) </span> <a class=\"anchor\" id=\"analyze_phase_5\"></a>"
   ]
  },
  {
   "cell_type": "markdown",
   "id": "6f33ae70",
   "metadata": {
    "papermill": {
     "duration": 0.032076,
     "end_time": "2022-10-13T08:40:26.456421",
     "exception": false,
     "start_time": "2022-10-13T08:40:26.424345",
     "status": "completed"
    },
    "tags": []
   },
   "source": [
    "### <span style=\"color:#0000ff\"> Q4.) Does Company Revenue Increases?"
   ]
  },
  {
   "cell_type": "code",
   "execution_count": 44,
   "id": "7aa012e8",
   "metadata": {
    "execution": {
     "iopub.execute_input": "2022-10-13T08:40:26.523359Z",
     "iopub.status.busy": "2022-10-13T08:40:26.522557Z",
     "iopub.status.idle": "2022-10-13T08:40:26.610829Z",
     "shell.execute_reply": "2022-10-13T08:40:26.609565Z"
    },
    "papermill": {
     "duration": 0.124846,
     "end_time": "2022-10-13T08:40:26.613578",
     "exception": false,
     "start_time": "2022-10-13T08:40:26.488732",
     "status": "completed"
    },
    "scrolled": true,
    "tags": []
   },
   "outputs": [],
   "source": [
    "total_pc = b.groupby(['fk_product_id'])['total_product_cost'].sum().reset_index() \n",
    "#total_pc.sort_values(by=['total_product_cost'], ascending=False)"
   ]
  },
  {
   "cell_type": "markdown",
   "id": "69865418",
   "metadata": {
    "papermill": {
     "duration": 0.032336,
     "end_time": "2022-10-13T08:40:26.678583",
     "exception": false,
     "start_time": "2022-10-13T08:40:26.646247",
     "status": "completed"
    },
    "tags": []
   },
   "source": [
    "#### Total Revenue"
   ]
  },
  {
   "cell_type": "code",
   "execution_count": 45,
   "id": "7a478858",
   "metadata": {
    "execution": {
     "iopub.execute_input": "2022-10-13T08:40:26.745925Z",
     "iopub.status.busy": "2022-10-13T08:40:26.745498Z",
     "iopub.status.idle": "2022-10-13T08:40:26.752309Z",
     "shell.execute_reply": "2022-10-13T08:40:26.751420Z"
    },
    "papermill": {
     "duration": 0.043442,
     "end_time": "2022-10-13T08:40:26.754727",
     "exception": false,
     "start_time": "2022-10-13T08:40:26.711285",
     "status": "completed"
    },
    "tags": []
   },
   "outputs": [
    {
     "data": {
      "text/plain": [
       "25510879653.048"
      ]
     },
     "execution_count": 45,
     "metadata": {},
     "output_type": "execute_result"
    }
   ],
   "source": [
    "total_revenue = total_pc['total_product_cost'].sum()\n",
    "total_revenue"
   ]
  },
  {
   "cell_type": "markdown",
   "id": "7cf5edfc",
   "metadata": {
    "papermill": {
     "duration": 0.032782,
     "end_time": "2022-10-13T08:40:26.821330",
     "exception": false,
     "start_time": "2022-10-13T08:40:26.788548",
     "status": "completed"
    },
    "tags": []
   },
   "source": [
    "#### Revenue in 2021"
   ]
  },
  {
   "cell_type": "code",
   "execution_count": 46,
   "id": "68d20ee8",
   "metadata": {
    "execution": {
     "iopub.execute_input": "2022-10-13T08:40:26.889533Z",
     "iopub.status.busy": "2022-10-13T08:40:26.888348Z",
     "iopub.status.idle": "2022-10-13T08:40:26.896589Z",
     "shell.execute_reply": "2022-10-13T08:40:26.895511Z"
    },
    "papermill": {
     "duration": 0.044544,
     "end_time": "2022-10-13T08:40:26.898799",
     "exception": false,
     "start_time": "2022-10-13T08:40:26.854255",
     "status": "completed"
    },
    "tags": []
   },
   "outputs": [
    {
     "data": {
      "text/plain": [
       "8474764776.1779995"
      ]
     },
     "execution_count": 46,
     "metadata": {},
     "output_type": "execute_result"
    }
   ],
   "source": [
    "revenue_2021 = tp2021['total_product_cost'].sum()\n",
    "revenue_2021"
   ]
  },
  {
   "cell_type": "markdown",
   "id": "ee7559ce",
   "metadata": {
    "papermill": {
     "duration": 0.033446,
     "end_time": "2022-10-13T08:40:26.965084",
     "exception": false,
     "start_time": "2022-10-13T08:40:26.931638",
     "status": "completed"
    },
    "tags": []
   },
   "source": [
    "#### Revenue in 2022"
   ]
  },
  {
   "cell_type": "code",
   "execution_count": 47,
   "id": "cde9ea79",
   "metadata": {
    "execution": {
     "iopub.execute_input": "2022-10-13T08:40:27.033997Z",
     "iopub.status.busy": "2022-10-13T08:40:27.033096Z",
     "iopub.status.idle": "2022-10-13T08:40:27.039379Z",
     "shell.execute_reply": "2022-10-13T08:40:27.038585Z"
    },
    "papermill": {
     "duration": 0.042633,
     "end_time": "2022-10-13T08:40:27.041516",
     "exception": false,
     "start_time": "2022-10-13T08:40:26.998883",
     "status": "completed"
    },
    "tags": []
   },
   "outputs": [
    {
     "data": {
      "text/plain": [
       "17036114876.87"
      ]
     },
     "execution_count": 47,
     "metadata": {},
     "output_type": "execute_result"
    }
   ],
   "source": [
    "revenue_2022 = tp2022['total_product_cost'].sum()\n",
    "revenue_2022"
   ]
  },
  {
   "cell_type": "code",
   "execution_count": 48,
   "id": "5369e556",
   "metadata": {
    "execution": {
     "iopub.execute_input": "2022-10-13T08:40:27.109728Z",
     "iopub.status.busy": "2022-10-13T08:40:27.108918Z",
     "iopub.status.idle": "2022-10-13T08:40:27.302498Z",
     "shell.execute_reply": "2022-10-13T08:40:27.301320Z"
    },
    "papermill": {
     "duration": 0.230364,
     "end_time": "2022-10-13T08:40:27.304995",
     "exception": false,
     "start_time": "2022-10-13T08:40:27.074631",
     "status": "completed"
    },
    "tags": []
   },
   "outputs": [
    {
     "data": {
      "image/png": "[encoded data removed]",
      "text/plain": [
       "<Figure size 900x400 with 1 Axes>"
      ]
     },
     "metadata": {},
     "output_type": "display_data"
    }
   ],
   "source": [
    "dfvasu = pd.DataFrame({'year': ['2021', '2022', 'Total (2021-2022)'],\n",
    "                   'revenue generated': [8474764776.1779995, 17036114876.87, 25510879653.048]})\n",
    "plt.rcParams[\"figure.figsize\"] = (9,4)\n",
    "colors = sns.color_palette(\"spring\", len(dfvasu))\n",
    "ax = dfvasu.plot.barh(x='year', y='revenue generated',width = 0.4, legend=1,color = '#000080')\n",
    "plt.xlabel(\"Ammount\",fontsize=13,labelpad = 15)\n",
    "plt.ylabel(\"Year\",fontsize=13,labelpad = 10)\n",
    "plt.title(\"Revenue Generated\",y=1.05,fontsize=15,weight='bold')\n",
    "plt.gcf().axes[0].xaxis.get_major_formatter().set_scientific(False)\n",
    "ax.ticklabel_format(style='plain', axis=\"x\")\n",
    "ax.bar_label(ax.containers[0],padding = 10, fmt = '%d')\n",
    "ylabels = ['revenue 2021','revenue 2022','Total Revenue -(2021 2022)']\n",
    "ylabels_new = [label.replace('-', '-\\n') for label in ylabels]\n",
    "plt.plot(range(3))\n",
    "plt.yticks(range(3), ylabels_new)\n",
    "plt.xlim(0,30510879653)\n",
    "plt.show()"
   ]
  },
  {
   "cell_type": "markdown",
   "id": "80e05958",
   "metadata": {
    "papermill": {
     "duration": 0.033355,
     "end_time": "2022-10-13T08:40:27.371865",
     "exception": false,
     "start_time": "2022-10-13T08:40:27.338510",
     "status": "completed"
    },
    "tags": []
   },
   "source": [
    ">  ***visualization of Horizontal Bar Graph of Total Revenue Generated***"
   ]
  },
  {
   "cell_type": "markdown",
   "id": "fab12e2b",
   "metadata": {
    "papermill": {
     "duration": 0.033276,
     "end_time": "2022-10-13T08:40:27.438532",
     "exception": false,
     "start_time": "2022-10-13T08:40:27.405256",
     "status": "completed"
    },
    "tags": []
   },
   "source": [
    "Yes, revenue has increased, From the above bar chart, we can clearly see that revenue growth increased by almost more than double in the year of 2022 as compared with 2021."
   ]
  },
  {
   "cell_type": "markdown",
   "id": "a48cb88f",
   "metadata": {
    "papermill": {
     "duration": 0.033008,
     "end_time": "2022-10-13T08:40:27.505045",
     "exception": false,
     "start_time": "2022-10-13T08:40:27.472037",
     "status": "completed"
    },
    "tags": []
   },
   "source": [
    "### <span style=\"color:#0000ff\"> Q5.) Does Sales Order Status can effect the company growth?"
   ]
  },
  {
   "cell_type": "code",
   "execution_count": 49,
   "id": "79c43302",
   "metadata": {
    "execution": {
     "iopub.execute_input": "2022-10-13T08:40:27.574743Z",
     "iopub.status.busy": "2022-10-13T08:40:27.573716Z",
     "iopub.status.idle": "2022-10-13T08:40:28.439931Z",
     "shell.execute_reply": "2022-10-13T08:40:28.438773Z"
    },
    "papermill": {
     "duration": 0.904064,
     "end_time": "2022-10-13T08:40:28.442853",
     "exception": false,
     "start_time": "2022-10-13T08:40:27.538789",
     "status": "completed"
    },
    "tags": []
   },
   "outputs": [],
   "source": [
    "ss =  b.groupby(['order_year','sales_order_status']).agg({'order_id':pd.Series.nunique}).reset_index()"
   ]
  },
  {
   "cell_type": "code",
   "execution_count": 50,
   "id": "61dfd767",
   "metadata": {
    "execution": {
     "iopub.execute_input": "2022-10-13T08:40:28.523230Z",
     "iopub.status.busy": "2022-10-13T08:40:28.522398Z",
     "iopub.status.idle": "2022-10-13T08:40:28.540315Z",
     "shell.execute_reply": "2022-10-13T08:40:28.539183Z"
    },
    "papermill": {
     "duration": 0.063439,
     "end_time": "2022-10-13T08:40:28.542692",
     "exception": false,
     "start_time": "2022-10-13T08:40:28.479253",
     "status": "completed"
    },
    "tags": []
   },
   "outputs": [
    {
     "data": {
      "text/html": [
       "<div>\n",
       "<style scoped>\n",
       "    .dataframe tbody tr th:only-of-type {\n",
       "        vertical-align: middle;\n",
       "    }\n",
       "\n",
       "    .dataframe tbody tr th {\n",
       "        vertical-align: top;\n",
       "    }\n",
       "\n",
       "    .dataframe thead th {\n",
       "        text-align: right;\n",
       "    }\n",
       "</style>\n",
       "<table border=\"1\" class=\"dataframe\">\n",
       "  <thead>\n",
       "    <tr style=\"text-align: right;\">\n",
       "      <th></th>\n",
       "      <th>order_year</th>\n",
       "      <th>sales_order_status</th>\n",
       "      <th>order_id</th>\n",
       "    </tr>\n",
       "  </thead>\n",
       "  <tbody>\n",
       "    <tr>\n",
       "      <th>0</th>\n",
       "      <td>2021</td>\n",
       "      <td>Rejected</td>\n",
       "      <td>3764</td>\n",
       "    </tr>\n",
       "    <tr>\n",
       "      <th>1</th>\n",
       "      <td>2021</td>\n",
       "      <td>Shipped</td>\n",
       "      <td>2434</td>\n",
       "    </tr>\n",
       "    <tr>\n",
       "      <th>2</th>\n",
       "      <td>2022</td>\n",
       "      <td>Rejected</td>\n",
       "      <td>3899</td>\n",
       "    </tr>\n",
       "    <tr>\n",
       "      <th>3</th>\n",
       "      <td>2022</td>\n",
       "      <td>Shipped</td>\n",
       "      <td>3489</td>\n",
       "    </tr>\n",
       "  </tbody>\n",
       "</table>\n",
       "</div>"
      ],
      "text/plain": [
       "  order_year sales_order_status  order_id\n",
       "0       2021           Rejected      3764\n",
       "1       2021            Shipped      2434\n",
       "2       2022           Rejected      3899\n",
       "3       2022            Shipped      3489"
      ]
     },
     "execution_count": 50,
     "metadata": {},
     "output_type": "execute_result"
    }
   ],
   "source": [
    "sales_status = ss[(ss[\"sales_order_status\"]=='Rejected')  | (ss [\"sales_order_status\"]=='Shipped')]\n",
    "sales_status = sales_status.reset_index()\n",
    "sales_status = sales_status.drop(['index'],axis=1)\n",
    "sales_status"
   ]
  },
  {
   "cell_type": "code",
   "execution_count": 51,
   "id": "c560ab3c",
   "metadata": {
    "execution": {
     "iopub.execute_input": "2022-10-13T08:40:28.619031Z",
     "iopub.status.busy": "2022-10-13T08:40:28.618642Z",
     "iopub.status.idle": "2022-10-13T08:40:28.848182Z",
     "shell.execute_reply": "2022-10-13T08:40:28.846934Z"
    },
    "papermill": {
     "duration": 0.26859,
     "end_time": "2022-10-13T08:40:28.850909",
     "exception": false,
     "start_time": "2022-10-13T08:40:28.582319",
     "status": "completed"
    },
    "tags": []
   },
   "outputs": [
    {
     "data": {
      "image/png": "[encoded data removed]",
      "text/plain": [
       "<Figure size 600x500 with 1 Axes>"
      ]
     },
     "metadata": {},
     "output_type": "display_data"
    }
   ],
   "source": [
    "plt.rcParams[\"figure.figsize\"] = (6,5)\n",
    "ax = sns.barplot(data = sales_status,x='order_year', hue = 'sales_order_status', y = 'order_id')\n",
    "for i in ax.containers:\n",
    "    ax.bar_label(i,)\n",
    "ax.set_title(\"Sales Order Status\",y=1.05,fontsize=15,weight='bold')\n",
    "ax.set_xlabel('Year',fontsize=12,labelpad = 15)\n",
    "ax.set_ylabel('Order Count',fontsize=12,labelpad = 15)\n",
    "plt.grid(False)\n",
    "plt.ylim(0,5900)\n",
    "\n",
    "plt.show()"
   ]
  },
  {
   "cell_type": "markdown",
   "id": "03a94fc7",
   "metadata": {
    "papermill": {
     "duration": 0.033918,
     "end_time": "2022-10-13T08:40:28.922459",
     "exception": false,
     "start_time": "2022-10-13T08:40:28.888541",
     "status": "completed"
    },
    "tags": []
   },
   "source": [
    "> ***visualization of Bar Graph of sales order status in 2021 & 2022***"
   ]
  },
  {
   "cell_type": "markdown",
   "id": "04d47774",
   "metadata": {
    "papermill": {
     "duration": 0.034015,
     "end_time": "2022-10-13T08:40:28.991839",
     "exception": false,
     "start_time": "2022-10-13T08:40:28.957824",
     "status": "completed"
    },
    "tags": []
   },
   "source": [
    "It is clear from the above chart that in the year of 2022 number of items shipped has increased as compared to the year 2021, While the number of items rejected is nearly the same and it does not show a significant increase. From this, we conclude that in the year of 2022 number of items that have shipped has increased and it does affect in revenue growth of the company."
   ]
  },
  {
   "cell_type": "markdown",
   "id": "bb8ac680",
   "metadata": {
    "papermill": {
     "duration": 0.034285,
     "end_time": "2022-10-13T08:40:29.061096",
     "exception": false,
     "start_time": "2022-10-13T08:40:29.026811",
     "status": "completed"
    },
    "tags": []
   },
   "source": [
    "####  \n",
    "\n",
    "\n",
    "\n",
    "#### Fifth KPI is :-\n",
    "## <span style=\"color:#ff0000\">  5)  User's Engagement  (KPI) </span> <a class=\"anchor\" id=\"analyze_phase_5\"></a>\n",
    "#### User's VS User's Who Order "
   ]
  },
  {
   "cell_type": "code",
   "execution_count": 52,
   "id": "087e35ae",
   "metadata": {
    "execution": {
     "iopub.execute_input": "2022-10-13T08:40:29.131787Z",
     "iopub.status.busy": "2022-10-13T08:40:29.131072Z",
     "iopub.status.idle": "2022-10-13T08:40:29.644243Z",
     "shell.execute_reply": "2022-10-13T08:40:29.642992Z"
    },
    "papermill": {
     "duration": 0.55187,
     "end_time": "2022-10-13T08:40:29.647226",
     "exception": false,
     "start_time": "2022-10-13T08:40:29.095356",
     "status": "completed"
    },
    "tags": []
   },
   "outputs": [],
   "source": [
    "### user id who order at least once\n",
    "tuo = b[b['order_quantity_accepted']>0]\n",
    "total_user_who_order =  tuo.groupby(['creation_year']).agg({'user_id':pd.Series.nunique}).reset_index()\n",
    "###total_user_who_order.head()  "
   ]
  },
  {
   "cell_type": "code",
   "execution_count": 53,
   "id": "e2f50677",
   "metadata": {
    "execution": {
     "iopub.execute_input": "2022-10-13T08:40:29.728252Z",
     "iopub.status.busy": "2022-10-13T08:40:29.727374Z",
     "iopub.status.idle": "2022-10-13T08:40:29.741259Z",
     "shell.execute_reply": "2022-10-13T08:40:29.739846Z"
    },
    "papermill": {
     "duration": 0.061816,
     "end_time": "2022-10-13T08:40:29.744164",
     "exception": false,
     "start_time": "2022-10-13T08:40:29.682348",
     "status": "completed"
    },
    "tags": []
   },
   "outputs": [
    {
     "data": {
      "text/html": [
       "<div>\n",
       "<style scoped>\n",
       "    .dataframe tbody tr th:only-of-type {\n",
       "        vertical-align: middle;\n",
       "    }\n",
       "\n",
       "    .dataframe tbody tr th {\n",
       "        vertical-align: top;\n",
       "    }\n",
       "\n",
       "    .dataframe thead th {\n",
       "        text-align: right;\n",
       "    }\n",
       "</style>\n",
       "<table border=\"1\" class=\"dataframe\">\n",
       "  <thead>\n",
       "    <tr style=\"text-align: right;\">\n",
       "      <th></th>\n",
       "      <th>creation_year</th>\n",
       "      <th>user_id</th>\n",
       "      <th>users_who_orders</th>\n",
       "    </tr>\n",
       "  </thead>\n",
       "  <tbody>\n",
       "    <tr>\n",
       "      <th>0</th>\n",
       "      <td>2021</td>\n",
       "      <td>2452</td>\n",
       "      <td>1533</td>\n",
       "    </tr>\n",
       "    <tr>\n",
       "      <th>1</th>\n",
       "      <td>2022</td>\n",
       "      <td>2980</td>\n",
       "      <td>1919</td>\n",
       "    </tr>\n",
       "  </tbody>\n",
       "</table>\n",
       "</div>"
      ],
      "text/plain": [
       "  creation_year  user_id  users_who_orders\n",
       "0          2021     2452              1533\n",
       "1          2022     2980              1919"
      ]
     },
     "execution_count": 53,
     "metadata": {},
     "output_type": "execute_result"
    }
   ],
   "source": [
    "users_vs_orders = users['users_who_orders'] = total_user_who_order['user_id']\n",
    "users.head()"
   ]
  },
  {
   "cell_type": "code",
   "execution_count": 54,
   "id": "f57fa88c",
   "metadata": {
    "execution": {
     "iopub.execute_input": "2022-10-13T08:40:29.822591Z",
     "iopub.status.busy": "2022-10-13T08:40:29.821913Z",
     "iopub.status.idle": "2022-10-13T08:40:30.037305Z",
     "shell.execute_reply": "2022-10-13T08:40:30.036367Z"
    },
    "papermill": {
     "duration": 0.254386,
     "end_time": "2022-10-13T08:40:30.039919",
     "exception": false,
     "start_time": "2022-10-13T08:40:29.785533",
     "status": "completed"
    },
    "tags": []
   },
   "outputs": [
    {
     "data": {
      "image/png": "[encoded data removed]",
      "text/plain": [
       "<Figure size 600x500 with 1 Axes>"
      ]
     },
     "metadata": {},
     "output_type": "display_data"
    }
   ],
   "source": [
    "year = ['2021', '2022']\n",
    "user_id = [2452, 2980]\n",
    "users_who_orders = [1533, 1919]\n",
    "\n",
    "x = np.arange(len(year))\n",
    "width = 0.25\n",
    "plt.rcParams[\"figure.figsize\"] = (6,5)\n",
    "fig, ax = plt.subplots()\n",
    "rects1 = ax.bar(x - width/2, user_id, width, label='Total Users')\n",
    "rects2 = ax.bar(x + width/2, users_who_orders, width, label='Users Who Order')\n",
    "ax.set_xlabel('Year',fontsize=13,labelpad = 15)\n",
    "ax.set_ylabel('User Count',fontsize=13,labelpad = 15)\n",
    "ax.set_title(\"Total User's VS Total User's Who Order\",y=1.05,fontsize=15,weight='bold')\n",
    "ax.set_xticks(x, year)\n",
    "ax.legend()\n",
    "plt.ylim(0,3900)\n",
    "ax.bar_label(rects1, padding=3)\n",
    "ax.bar_label(rects2, padding=3)\n",
    "plt.show()"
   ]
  },
  {
   "cell_type": "markdown",
   "id": "830b69d4",
   "metadata": {
    "papermill": {
     "duration": 0.036458,
     "end_time": "2022-10-13T08:40:30.111790",
     "exception": false,
     "start_time": "2022-10-13T08:40:30.075332",
     "status": "completed"
    },
    "tags": []
   },
   "source": [
    "> ***visualization of Group Bar Graph of User's Engagement***"
   ]
  },
  {
   "cell_type": "markdown",
   "id": "167b4940",
   "metadata": {
    "papermill": {
     "duration": 0.034625,
     "end_time": "2022-10-13T08:40:30.181689",
     "exception": false,
     "start_time": "2022-10-13T08:40:30.147064",
     "status": "completed"
    },
    "tags": []
   },
   "source": [
    "From the above bar chart, we know that there is an increment in the number of users from 2021 to 2022 and also in the number of users who placed orders."
   ]
  },
  {
   "cell_type": "markdown",
   "id": "ef403cf4",
   "metadata": {
    "papermill": {
     "duration": 0.034871,
     "end_time": "2022-10-13T08:40:30.251199",
     "exception": false,
     "start_time": "2022-10-13T08:40:30.216328",
     "status": "completed"
    },
    "tags": []
   },
   "source": [
    "\n",
    "\n",
    " \n",
    "\n",
    "#### Sixth KPI is :-\n",
    "## <span style=\"color:#ff0000\">  6)  Website Traffic  (KPI) </span> <a class=\"anchor\" id=\"analyze_phase_5\"></a>\n",
    "\n",
    "\n",
    "#####  \n",
    "\n",
    "### <span style=\"color:#0000ff\"> Q5.) Does the login frequency affect the number of orders placed?"
   ]
  },
  {
   "cell_type": "code",
   "execution_count": 55,
   "id": "4d7fecf2",
   "metadata": {
    "execution": {
     "iopub.execute_input": "2022-10-13T08:40:30.323269Z",
     "iopub.status.busy": "2022-10-13T08:40:30.322884Z",
     "iopub.status.idle": "2022-10-13T08:40:31.086224Z",
     "shell.execute_reply": "2022-10-13T08:40:31.085060Z"
    },
    "papermill": {
     "duration": 0.80283,
     "end_time": "2022-10-13T08:40:31.088814",
     "exception": false,
     "start_time": "2022-10-13T08:40:30.285984",
     "status": "completed"
    },
    "tags": []
   },
   "outputs": [
    {
     "data": {
      "text/html": [
       "<div>\n",
       "<style scoped>\n",
       "    .dataframe tbody tr th:only-of-type {\n",
       "        vertical-align: middle;\n",
       "    }\n",
       "\n",
       "    .dataframe tbody tr th {\n",
       "        vertical-align: top;\n",
       "    }\n",
       "\n",
       "    .dataframe thead th {\n",
       "        text-align: right;\n",
       "    }\n",
       "</style>\n",
       "<table border=\"1\" class=\"dataframe\">\n",
       "  <thead>\n",
       "    <tr style=\"text-align: right;\">\n",
       "      <th></th>\n",
       "      <th>order_year</th>\n",
       "      <th>login_time</th>\n",
       "      <th>order_id</th>\n",
       "    </tr>\n",
       "  </thead>\n",
       "  <tbody>\n",
       "    <tr>\n",
       "      <th>0</th>\n",
       "      <td>2021</td>\n",
       "      <td>1662212</td>\n",
       "      <td>6216</td>\n",
       "    </tr>\n",
       "    <tr>\n",
       "      <th>1</th>\n",
       "      <td>2022</td>\n",
       "      <td>1734578</td>\n",
       "      <td>7414</td>\n",
       "    </tr>\n",
       "  </tbody>\n",
       "</table>\n",
       "</div>"
      ],
      "text/plain": [
       "  order_year  login_time  order_id\n",
       "0       2021     1662212      6216\n",
       "1       2022     1734578      7414"
      ]
     },
     "execution_count": 55,
     "metadata": {},
     "output_type": "execute_result"
    }
   ],
   "source": [
    "login_frequency  =  b.groupby(['order_year']).agg({'login_time':'count','order_id':pd.Series.nunique}).reset_index()\n",
    "login_frequency.head()"
   ]
  },
  {
   "cell_type": "markdown",
   "id": "c72644c1",
   "metadata": {
    "papermill": {
     "duration": 0.034914,
     "end_time": "2022-10-13T08:40:31.159202",
     "exception": false,
     "start_time": "2022-10-13T08:40:31.124288",
     "status": "completed"
    },
    "tags": []
   },
   "source": [
    "We can clearly see that in the year 2022 there is an increase in the number of logins in 2022 as compared to 2021 and also in the number of orders placed, so from that we can conclude that yes, login frequency does affect the number of orders placed.\n",
    "\n",
    "\n",
    "#### \n",
    "\n",
    "\n"
   ]
  },
  {
   "cell_type": "markdown",
   "id": "aca718a5",
   "metadata": {
    "papermill": {
     "duration": 0.034973,
     "end_time": "2022-10-13T08:40:31.229499",
     "exception": false,
     "start_time": "2022-10-13T08:40:31.194526",
     "status": "completed"
    },
    "tags": []
   },
   "source": [
    "## Conclusion\n",
    "\n",
    "\n",
    "KPIs can feel confusing, overwhelming, and frustratingly difficult to apply. But the time and effort that you put into tracking and understanding them will undoubtedly pay off. Learning about the relationships between the core components of your business will enable you to make informed, objective decisions. And these decisions can have an incredible impact on your business’s bottom line.\n",
    "\n",
    "\n",
    "With the help of KPIs, we Based on the results of these calculations we can be used as a recommendation for retail owners to arrange the arrangement of product catalogs and take strategic steps to improve product marketing. By utilizing the association rules which are discovered as a result of the analyses, the retailer can apply effective marketing and sales promotion strategies, he will be able to increase customer engagement and improve customer experience and identify customer behavior.\n",
    "\n",
    "Remember, \"knowledge is power\". So work to understand your business’s data, and harness the actionable insights that will propel you forward.\n",
    "\n",
    "\n",
    "We hope this project inspires you on where to start and how to approach a similar case in the future.\n",
    "\n",
    "\n",
    "\n",
    "####  \n",
    "\n",
    "***Thanks for reading out …***\n",
    "\n",
    "***Hope you find this kernel helpful :)***\n",
    "\n"
   ]
  }
 ],
 "metadata": {
  "kernelspec": {
   "display_name": "Python 3",
   "language": "python",
   "name": "python3"
  },
  "language_info": {
   "codemirror_mode": {
    "name": "ipython",
    "version": 3
   },
   "file_extension": ".py",
   "mimetype": "text/x-python",
   "name": "python",
   "nbconvert_exporter": "python",
   "pygments_lexer": "ipython3",
   "version": "3.7.12"
  },
  "papermill": {
   "default_parameters": {},
   "duration": 48.38303,
   "end_time": "2022-10-13T08:40:33.091788",
   "environment_variables": {},
   "exception": null,
   "input_path": "__notebook__.ipynb",
   "output_path": "__notebook__.ipynb",
   "parameters": {},
   "start_time": "2022-10-13T08:39:44.708758",
   "version": "2.3.4"
  }
 },
 "nbformat": 4,
 "nbformat_minor": 5
}
